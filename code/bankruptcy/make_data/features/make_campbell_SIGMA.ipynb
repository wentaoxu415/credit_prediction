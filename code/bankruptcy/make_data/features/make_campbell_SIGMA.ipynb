{
 "cells": [
  {
   "cell_type": "code",
   "execution_count": 1,
   "metadata": {
    "collapsed": true
   },
   "outputs": [],
   "source": [
    "import numpy as np\n",
    "import pandas as pd\n",
    "from scipy.stats import mstats\n",
    "from IPython.display import display\n",
    "from ipython_helpers import (\n",
    "    print_full\n",
    ")"
   ]
  },
  {
   "cell_type": "code",
   "execution_count": 17,
   "metadata": {
    "collapsed": true
   },
   "outputs": [],
   "source": [
    "def transform_daily_price_data(df):\n",
    "    \"\"\"Transforms daily price data to enable making of variables \n",
    "    \n",
    "    The following operations are conducted in this function:\n",
    "    1) Convert prices to become positive numbers\n",
    "    2) Convert return column to float type \n",
    "    3) Parse the date column to create year and month columns. \n",
    "    The year and month columns will be used to group return data \n",
    "    4) Make is_non_zero indicator. \"is_non_zero\" column will be used to count \n",
    "    number of active trading days\n",
    "    \"\"\"\n",
    "    df.loc[:, 'RET'] = pd.to_numeric(df['RET'], errors='coerce', downcast='float') #2\n",
    "    df.loc[:, 'PRC'] = df['PRC'].abs() \n",
    "    df.loc[:, 'year'] = df['date'].dt.year\n",
    "    df.loc[:, 'month'] = df['date'].dt.month\n",
    "    df.loc[:, 'is_non_zero'] = np.where(df['RET'].abs() > 0, 1, 0)\n",
    "\n",
    "    return df\n",
    "\n",
    "\n",
    "def make_variance_df(df):\n",
    "    \"\"\"Make a column containing variance for each month\n",
    "    \"\"\"\n",
    "    df = df.groupby(['PERMNO', 'year', 'month']).agg({'RET': 'var', 'is_non_zero': 'sum'})\n",
    "    df.rename(columns={'RET': 'var'}, inplace=True)\n",
    "    \n",
    "    return df.reset_index()\n",
    "    \n",
    "\n",
    "def compute_rolling_sum(values):\n",
    "    \"\"\"Helper function for make_rolling_columns function\n",
    "    \"\"\"\n",
    "    return np.sum(values[:3])\n",
    "\n",
    "\n",
    "def make_rolling_columns(df):\n",
    "    \"\"\"Helper function for make_rolling_variance_df function\n",
    "    \"\"\"\n",
    "    df = df.sort_values(by=['year', 'month'])\n",
    "    df['rolling_is_non_zero'] = df['is_non_zero'].rolling(4).apply(compute_rolling_sum)\n",
    "    df['rolling_var'] = df['var'].rolling(4).apply(compute_rolling_sum)\n",
    "    \n",
    "    return df\n",
    "    \n",
    "    \n",
    "def make_rolling_variance_df(df):\n",
    "    \"\"\"Make a column containing variance over the rolling 3 months period\n",
    "    \"\"\"\n",
    "    df = df.sort_values(by=['PERMNO', 'year', 'month'])\n",
    "    return df.groupby(by=['PERMNO']).apply(make_rolling_columns)\n",
    "\n",
    "\n",
    "def make_mean_df(df):\n",
    "    \"\"\"Make a dataframe representing mean of cross sectional return for each month in the data\n",
    "    \n",
    "    To eliminate the effect of rolling 3 months period that had few active trading days, \n",
    "    observations with fewer than 5 active trading days in the 3 months period will be removed \n",
    "    from computing mean of cross sectional return \n",
    "    \"\"\"\n",
    "    df = df[df['rolling_is_non_zero'] >= 5]\n",
    "    \n",
    "    return df.groupby(['year', 'month']).agg({'SIGMA': 'mean'})\n",
    "\n",
    "\n",
    "def compute_sigma(row):\n",
    "    \"\"\"Helper function for make_sigma_df function. \n",
    "    \"\"\"\n",
    "    if row['rolling_is_non_zero'] >= 5:\n",
    "        return  np.sqrt(252 / (row['rolling_is_non_zero'] - 1) * row['rolling_var'])\n",
    "    else:\n",
    "        # Mark observations with fewer than five nonzero observations as missing\n",
    "        return np.nan\n",
    "\n",
    "    \n",
    "def replace_sigma(row, mean_df):\n",
    "    \"\"\"Helper function for make_sigma_df function\n",
    "    \"\"\"\n",
    "    if (pd.isnull(row['SIGMA'])) and (pd.notnull(row['rolling_var'])):\n",
    "        try:\n",
    "            return mean_df.loc[row['year'], row['month']]['SIGMA']\n",
    "        except:\n",
    "            print(row)\n",
    "    else:\n",
    "        return row['SIGMA']\n",
    "\n",
    "        \n",
    "def make_sigma_df(df):\n",
    "    \"\"\"Make a column containing SIGMA values.\n",
    "    \n",
    "    - It computes the SIGMA value for each row by applying the formula mentioned in the \n",
    "    Campbell paper. \n",
    "    \n",
    "    - To eliminate the effect of rolling 3 months period that had few active \n",
    "    trading days, we will mark those observations with less than 5 active trading days in the \n",
    "    3 months period as missing and then replace missing observations with cross sectional mean of SIGMA.\n",
    "\n",
    "    - To make sure we don't replace SIGMA that were meant to be missing such as the \n",
    "    first few observations of each company, we replace this value only if rolling_var \n",
    "    exists, which are calculated as long as there were trading days in the rolling window period\n",
    "    \"\"\"\n",
    "    # Compute SIGMA or annualized 3-month rolling sample standard deviation\n",
    "    df.loc[:, 'SIGMA'] = df.apply(lambda row: compute_sigma(row), axis=1)\n",
    "    \n",
    "    # Make dataframe of cross sectional mean of SIGMA\n",
    "    mean_df = make_mean_df(df)\n",
    "    \n",
    "    df.loc[:, 'SIGMA'] = df.apply(lambda row: replace_sigma(row, mean_df), axis=1)\n",
    "            \n",
    "    return df\n",
    "\n",
    "\n",
    "def winsorize_df(df, var_list):\n",
    "    \"\"\"Winsorizes the variables specified in the var_list at 5th and 95th percentile\n",
    "    \"\"\"\n",
    "    for var in var_list:\n",
    "        column_name = var + '_win'\n",
    "        win_df = df.dropna(subset=[var])\n",
    "        win_df.loc[:, column_name] = mstats.winsorize(win_df[var], limits=(0.05, 0.05))\n",
    "        df = df.join(win_df[column_name])\n",
    "    \n",
    "    return df "
   ]
  },
  {
   "cell_type": "code",
   "execution_count": 3,
   "metadata": {
    "collapsed": false
   },
   "outputs": [],
   "source": [
    "daily_prices_df = pd.read_csv(\n",
    "    \"../Data/original_data/crsp_daily_equity_1961_2016.csv\", \n",
    "    usecols=['PERMNO', 'date', 'PRC', 'RET', 'TICKER', 'CUSIP'],\n",
    "    dtype={\n",
    "        'PERMNO': np.int32,\n",
    "        'TICKER': str,         \n",
    "        'CUSIP': str, \n",
    "        'PRC': np.float64,\n",
    "        'RET': str\n",
    "    },    \n",
    "    parse_dates=['date']\n",
    ")"
   ]
  },
  {
   "cell_type": "code",
   "execution_count": 10,
   "metadata": {
    "collapsed": false
   },
   "outputs": [],
   "source": [
    "transformed_df = transform_daily_price_data(daily_prices_df)"
   ]
  },
  {
   "cell_type": "code",
   "execution_count": 11,
   "metadata": {
    "collapsed": false
   },
   "outputs": [],
   "source": [
    "variance_df = make_variance_df(transformed_df)"
   ]
  },
  {
   "cell_type": "code",
   "execution_count": 16,
   "metadata": {
    "collapsed": false
   },
   "outputs": [],
   "source": [
    "rolling_variance_df = make_rolling_variance_df(variance_df)"
   ]
  },
  {
   "cell_type": "code",
   "execution_count": 18,
   "metadata": {
    "collapsed": true
   },
   "outputs": [],
   "source": [
    "SIGMA_df = make_sigma_df(rolling_variance_df)"
   ]
  },
  {
   "cell_type": "code",
   "execution_count": 22,
   "metadata": {
    "collapsed": false
   },
   "outputs": [],
   "source": [
    "SIGMA_df1 = SIGMA_df.reset_index(drop=True)"
   ]
  },
  {
   "cell_type": "code",
   "execution_count": 23,
   "metadata": {
    "collapsed": true
   },
   "outputs": [],
   "source": [
    "SIGMA_df1.to_csv('../Data/campbell_data/campbell_SIGMA.csv')"
   ]
  },
  {
   "cell_type": "code",
   "execution_count": null,
   "metadata": {
    "collapsed": false
   },
   "outputs": [],
   "source": [
    "winsorized_SIGMA_df = winsorize_df(SIGMA_df, var_list=['SIGMA'])"
   ]
  },
  {
   "cell_type": "code",
   "execution_count": null,
   "metadata": {
    "collapsed": false
   },
   "outputs": [],
   "source": [
    "winsorized_SIGMA_df.to_csv('../Data/campbell_data/campbell_SIGMA.csv')"
   ]
  },
  {
   "cell_type": "code",
   "execution_count": 24,
   "metadata": {
    "collapsed": false
   },
   "outputs": [
    {
     "data": {
      "text/html": [
       "<div>\n",
       "<table border=\"1\" class=\"dataframe\">\n",
       "  <thead>\n",
       "    <tr style=\"text-align: right;\">\n",
       "      <th></th>\n",
       "      <th>PERMNO</th>\n",
       "      <th>year</th>\n",
       "      <th>month</th>\n",
       "      <th>is_non_zero</th>\n",
       "      <th>var</th>\n",
       "      <th>rolling_is_non_zero</th>\n",
       "      <th>rolling_var</th>\n",
       "      <th>SIGMA</th>\n",
       "    </tr>\n",
       "  </thead>\n",
       "  <tbody>\n",
       "    <tr>\n",
       "      <th>0</th>\n",
       "      <td>10000</td>\n",
       "      <td>1986</td>\n",
       "      <td>1</td>\n",
       "      <td>11</td>\n",
       "      <td>0.004261</td>\n",
       "      <td>NaN</td>\n",
       "      <td>NaN</td>\n",
       "      <td>NaN</td>\n",
       "    </tr>\n",
       "    <tr>\n",
       "      <th>1</th>\n",
       "      <td>10000</td>\n",
       "      <td>1986</td>\n",
       "      <td>2</td>\n",
       "      <td>11</td>\n",
       "      <td>0.000961</td>\n",
       "      <td>NaN</td>\n",
       "      <td>NaN</td>\n",
       "      <td>NaN</td>\n",
       "    </tr>\n",
       "    <tr>\n",
       "      <th>2</th>\n",
       "      <td>10000</td>\n",
       "      <td>1986</td>\n",
       "      <td>3</td>\n",
       "      <td>9</td>\n",
       "      <td>0.001985</td>\n",
       "      <td>NaN</td>\n",
       "      <td>NaN</td>\n",
       "      <td>NaN</td>\n",
       "    </tr>\n",
       "    <tr>\n",
       "      <th>3</th>\n",
       "      <td>10000</td>\n",
       "      <td>1986</td>\n",
       "      <td>4</td>\n",
       "      <td>11</td>\n",
       "      <td>0.000126</td>\n",
       "      <td>31.0</td>\n",
       "      <td>0.007207</td>\n",
       "      <td>0.246047</td>\n",
       "    </tr>\n",
       "    <tr>\n",
       "      <th>4</th>\n",
       "      <td>10000</td>\n",
       "      <td>1986</td>\n",
       "      <td>5</td>\n",
       "      <td>17</td>\n",
       "      <td>0.001510</td>\n",
       "      <td>31.0</td>\n",
       "      <td>0.003072</td>\n",
       "      <td>0.160645</td>\n",
       "    </tr>\n",
       "  </tbody>\n",
       "</table>\n",
       "</div>"
      ],
      "text/plain": [
       "   PERMNO  year  month  is_non_zero       var  rolling_is_non_zero  \\\n",
       "0   10000  1986      1           11  0.004261                  NaN   \n",
       "1   10000  1986      2           11  0.000961                  NaN   \n",
       "2   10000  1986      3            9  0.001985                  NaN   \n",
       "3   10000  1986      4           11  0.000126                 31.0   \n",
       "4   10000  1986      5           17  0.001510                 31.0   \n",
       "\n",
       "   rolling_var     SIGMA  \n",
       "0          NaN       NaN  \n",
       "1          NaN       NaN  \n",
       "2          NaN       NaN  \n",
       "3     0.007207  0.246047  \n",
       "4     0.003072  0.160645  "
      ]
     },
     "execution_count": 24,
     "metadata": {},
     "output_type": "execute_result"
    }
   ],
   "source": [
    "SIGMA_df1.head()"
   ]
  },
  {
   "cell_type": "code",
   "execution_count": null,
   "metadata": {
    "collapsed": true
   },
   "outputs": [],
   "source": []
  }
 ],
 "metadata": {
  "anaconda-cloud": {},
  "kernelspec": {
   "display_name": "Python [conda root]",
   "language": "python",
   "name": "conda-root-py"
  },
  "language_info": {
   "codemirror_mode": {
    "name": "ipython",
    "version": 2
   },
   "file_extension": ".py",
   "mimetype": "text/x-python",
   "name": "python",
   "nbconvert_exporter": "python",
   "pygments_lexer": "ipython2",
   "version": "2.7.12"
  }
 },
 "nbformat": 4,
 "nbformat_minor": 1
}
