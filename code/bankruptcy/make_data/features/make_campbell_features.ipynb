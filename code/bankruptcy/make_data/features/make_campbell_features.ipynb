{
 "cells": [
  {
   "cell_type": "code",
   "execution_count": 46,
   "metadata": {
    "collapsed": false
   },
   "outputs": [],
   "source": [
    "from datetime import datetime\n",
    "import numpy as np\n",
    "import math\n",
    "import pandas as pd\n",
    "from scipy.stats import mstats\n",
    "from IPython.display import display\n",
    "from ipython_helpers import (\n",
    "    print_full\n",
    ")\n",
    "from dateutil.relativedelta import relativedelta\n",
    "import matplotlib.pyplot as plt\n",
    "import matplotlib\n",
    "matplotlib.style.use('ggplot')\n",
    "%matplotlib inline"
   ]
  },
  {
   "cell_type": "code",
   "execution_count": 47,
   "metadata": {
    "collapsed": false
   },
   "outputs": [],
   "source": [
    "# Transform Functions\n",
    "def transform_crspcs_qtrly_df(df):\n",
    "    df = df[df['LINKPRIM'].isin(['P', 'C'])]\n",
    "    df = df.rename(columns={\n",
    "            'LPERMCO': 'PERMCO',\n",
    "            'LPERMNO': 'PERMNO',\n",
    "            'tic': 'TICKER',\n",
    "            'cusip': 'CUSIP',\n",
    "            'cshoq': 'outstanding_shares',\n",
    "            'prccq': 'crspcs_share_price',\n",
    "            'niq': 'net_income',\n",
    "            'cheq': 'cash_and_sti',\n",
    "            'atq': 'total_assets',\n",
    "            'ltq': 'total_liabilities'\n",
    "        })\n",
    "    \n",
    "    \n",
    "    df.loc[:, 'lagged_date'] = df['datadate'].map(lambda x: x + relativedelta(months=2)) \n",
    "    df.loc[:, 'year'] = df['lagged_date'].dt.year \n",
    "    df.loc[:, 'month'] = df['lagged_date'].dt.month \n",
    "    df.loc[:, 'deletion_year'] = df['dldte'].dt.year \n",
    "    df.loc[:, 'deletion_month'] = df['dldte'].dt.month\n",
    "    df.loc[:, 'outstanding_shares'] = df['outstanding_shares'] * math.pow(10, 6)\n",
    "    df.loc[:, 'given_market_value'] = df['mkvaltq'] * math.pow(10, 6)\n",
    "    df.loc[:, 'computed_market_value'] = df['outstanding_shares'] * df['crspcs_share_price']\n",
    "    df.loc[:, 'crspcs_market_value'] = np.where(pd.notnull(df['given_market_value']), df['given_market_value'], df['computed_market_value'])\n",
    "    df.loc[:, 'net_income'] = df['net_income'] * math.pow(10, 6)\n",
    "    df.loc[:, 'cash_and_sti'] = df['cash_and_sti'] * math.pow(10, 6)\n",
    "    df.loc[:, 'total_assets'] = df['total_assets'] * math.pow(10, 6)\n",
    "    df.loc[:, 'total_liabilities'] = df['total_liabilities'] * 10**6\n",
    "    df.loc[:, 'book_equity'] = df['total_assets'] - df['total_liabilities']\n",
    "    df.loc[:, 'CUSIP'] = df['CUSIP'].astype(str).str[:-1]\n",
    "    \n",
    "    return df\n",
    "\n",
    "\n",
    "def transform_crsp_monthly_equity_df(df):\n",
    "    df = df.rename(columns={\n",
    "        'SHROUT': 'outstanding_shares',\n",
    "        'PRC': 'crsp_share_price',\n",
    "        'sprtrn': 'sp500_index_return',\n",
    "        'RET': 'equity_return'\n",
    "    })   \n",
    "    \n",
    "    df.loc[:, 'lagged_date'] = df['date'].map(lambda x: x + relativedelta(months=1)) #2\n",
    "    df.loc[:, 'year'] = df['lagged_date'].dt.year  #3\n",
    "    df.loc[:, 'month'] = df['lagged_date'].dt.month  \n",
    "    df.loc[:, 'outstanding_shares'] = df['outstanding_shares'] * math.pow(10, 3)  #4\n",
    "    df.loc[:, 'crsp_share_price'] = df['crsp_share_price'].abs()  #5\n",
    "    df.loc[:, 'crsp_market_value'] = df['outstanding_shares'] * df['crsp_share_price']  #6\n",
    "    df.loc[:, 'sp500_index_return'] = pd.to_numeric(df['sp500_index_return'], errors='coerce', downcast='float')  #7 \n",
    "    df.loc[:, 'equity_return'] = pd.to_numeric(df['equity_return'], errors='coerce', downcast='float')  #8\n",
    "\n",
    "    return df\n",
    "\n",
    "\n",
    "def transform_crsp_monthly_index_df(df):\n",
    "    # 1) Lag the time by 1 month to ensure that information from specific month is\n",
    "    # only accessible in the beginning of the next month\n",
    "    df.loc[:, 'lagged_date'] = df['caldt'].map(lambda x: x + relativedelta(months=1))\n",
    "    df.loc[:, 'year'] = df['lagged_date'].dt.year\n",
    "    df.loc[:, 'month'] = df['lagged_date'].dt.month   \n",
    "    # 2) Fix the unit of total market value by multiplying by 1000\n",
    "    df.loc[:, 'totval'] = df['totval'] * math.pow(10, 3)\n",
    "    df = df.rename(columns={'totval': 'sp500_market_value'})\n",
    "    \n",
    "    return df\n",
    "\n",
    "\n",
    "def convert_qtrly_to_monthly(df):\n",
    "    df_1 = df.copy()\n",
    "    df_2 = df.copy()\n",
    "    \n",
    "    # Increment df_1's date by 1 month \n",
    "    df_1.loc[:, 'lagged_date'] = df_1['lagged_date'].map(lambda x: x + relativedelta(months=1))\n",
    "    df_1.loc[:, 'year'] = df_1['lagged_date'].dt.year\n",
    "    df_1.loc[:, 'month'] = df_1['lagged_date'].dt.month \n",
    "    \n",
    "    # Increment df_1's date by 2 months \n",
    "    df_2.loc[:, 'lagged_date'] = df_2['lagged_date'].map(lambda x: x + relativedelta(months=2))\n",
    "    df_2.loc[:, 'year'] = df_2['lagged_date'].dt.year\n",
    "    df_2.loc[:, 'month'] = df_2['lagged_date'].dt.month \n",
    "    \n",
    "    frames = [df, df_1, df_2]\n",
    "    \n",
    "    monthly_df = pd.concat(frames)\n",
    "    monthly_df = monthly_df.sort_values(by=['TICKER', 'CUSIP', 'year', 'month'])\n",
    "    \n",
    "    return monthly_df\n",
    "\n",
    "\n",
    "def transform_merged_df(df):\n",
    "    df = df.rename(columns={\n",
    "        'TICKER_x': 'TICKER',\n",
    "        'lagged_date_x': 'lagged_date',\n",
    "        'conm': 'company_name',\n",
    "        'teqq': 'total_equity',    \n",
    "        'outstanding_shares_x':'crspcs_outstanding_shares',\n",
    "        'outstanding_shares_y':'crsp_outstanding_shares'\n",
    "        })\n",
    "    \n",
    "            \n",
    "    df.loc[:, 'company_share_price'] = np.where(pd.notnull(df['crsp_share_price']), df['crsp_share_price'], df['crspcs_share_price'])\n",
    "    df.loc[:, 'company_market_value'] = np.where(pd.notnull(df['crsp_market_value']), df['crsp_market_value'], df['crspcs_market_value'])\n",
    "    df.loc[:, 'is_bankrupt'] = np.where(df['dlrsn'].isin([2, 3]), True, False)\n",
    "    \n",
    "    return df\n",
    "\n",
    "# Merge functions\n",
    "def merge_crsp_equity_and_index_df(equity_df, index_df):\n",
    "    return equity_df.merge(index_df[['sp500_market_value', 'year', 'month']], on=['year', 'month'])\n",
    "    \n",
    "    \n",
    "def merge_crspcs_and_crsp_df(crspcs_df, crsp_df):    \n",
    "    return crspcs_df.merge(crsp_df, how='left', on=['PERMNO', 'year', 'month'])\n",
    "\n",
    "\n",
    "def merge_merged_df_and_sigma_df(merged_df, sigma_df):\n",
    "    return merged_df.merge(sigma_df, how='left', on=['PERMNO', 'year', 'month'])\n",
    "    \n",
    "# Helper functions\n",
    "def make_mean_df(df, var_name):\n",
    "    return df.groupby(['year', 'month']).agg({var_name: 'mean'})\n",
    "    \n",
    "    \n",
    "def replace_missing(row, mean_df, var_name):\n",
    "    if pd.isnull(row[var_name]):\n",
    "        return mean_df.loc[row['year'], row['month']][var_name]\n",
    "    else:\n",
    "        return row[var_name]\n",
    "\n",
    "        \n",
    "def make_campbell_df(df):\n",
    "    print(\"Currently making ADJUSTED_TOTAL_ASSETS variable\")\n",
    "    df.loc[:, 'ADJUSTED_TOTAL_ASSETS'] = df['total_assets'] + 0.1 * (df['company_market_value'] - df['book_equity'])\n",
    "    \n",
    "    print(\"Currently making MARKET_TOTAL_ASSETS variable\")\n",
    "    df.loc[:, 'MARKET_TOTAL_ASSETS'] = df['company_market_value'] + df['total_liabilities']\n",
    "\n",
    "    print(\"Currently making NITA variable\")\n",
    "    df.loc[:, 'NITA'] = df['net_income'] / df['ADJUSTED_TOTAL_ASSETS']\n",
    "\n",
    "    print(\"Currently making TLTA variable\")\n",
    "    df.loc[:, 'TLTA'] = df['total_liabilities'] / df['ADJUSTED_TOTAL_ASSETS']\n",
    "    \n",
    "    print(\"Currently making NIMTA variable\")\n",
    "    df.loc[:, 'NIMTA'] = df['net_income'] / df['MARKET_TOTAL_ASSETS']\n",
    "    \n",
    "    print(\"Currently making TLMTA variable\")\n",
    "    df.loc[:, 'TLMTA'] = df['total_liabilities'] / df['MARKET_TOTAL_ASSETS']\n",
    "    \n",
    "    print(\"Currently making CASHMTA variable\")\n",
    "    df.loc[:, 'CASHMTA'] = df['cash_and_sti'] / df['MARKET_TOTAL_ASSETS']\n",
    "\n",
    "    print(\"Currently making RSIZE variable\")\n",
    "    df.loc[:, 'RSIZE'] = np.log(df['company_market_value'] / df['sp500_market_value'])\n",
    "    \n",
    "    print(\"Currently making PRICE variable\")\n",
    "    df.loc[:, 'company_share_price'] = np.where(df['company_share_price'] > 15, 15, df['company_share_price'])\n",
    "    df.loc[:, 'PRICE'] = np.log(df['company_share_price'])\n",
    "\n",
    "    \n",
    "    print(\"Currently making MB variable\")\n",
    "    df.loc[:, 'adjusted_book_equity'] = df['ADJUSTED_TOTAL_ASSETS'] - df['total_liabilities'] + 0.1 * (df['company_market_value'] - df['book_equity'])\n",
    "    df.loc[:, 'adjusted_book_equity'] = np.where(df['adjusted_book_equity'] < 0, 1, df['adjusted_book_equity'])\n",
    "    df.loc[:, 'MB'] = df['company_market_value'] / df['adjusted_book_equity']  \n",
    "    \n",
    "    print(\"Currently making EXRET variable\")\n",
    "    df.loc[:, 'EXRET'] = np.log(1 + df['equity_return']) - np.log(1 + df['sp500_index_return'])\n",
    "\n",
    "    print(\"Currently making EXRET_AVG, NIMTA_3MONTHS, NIMTA_AVG variables\")\n",
    "    df = df.groupby(by=['PERMNO']).apply(make_AVG_columns)       \n",
    "    df = df.reset_index(drop=True)\n",
    "    \n",
    "    nimta_avg_mean_df = make_mean_df(df, 'NIMTA_AVG')\n",
    "    exret_avg_mean_df = make_mean_df(df, 'EXRET_AVG')\n",
    "    \n",
    "    print(\"Currently replacing missing NIMTA_AVG with cross sectional mean\")\n",
    "    df.loc[:, \"NIMTA_AVG\"] = df.apply(lambda x: replace_missing(x, nimta_avg_mean_df, 'NIMTA_AVG'), axis=1)\n",
    "\n",
    "    print(\"Currently replacing missing EXRET_AVG with cross sectional mean\")\n",
    "    df.loc[:, \"EXRET_AVG\"] = df.apply(lambda x: replace_missing(x, exret_avg_mean_df, 'EXRET_AVG'), axis=1)\n",
    "\n",
    "    return df\n",
    "\n",
    "\n",
    "def make_AVG_columns(df):\n",
    "    df = df.sort_values(by=['year', 'month'])\n",
    "    df.loc[:, \"EXRET_AVG\"] = df['EXRET'].rolling(13).apply(compute_EXRET_AVG)\n",
    "    df.loc[:, \"NIMTA_3MONTHS\"] = df['NIMTA'].rolling(4).apply(compute_NIMTA_3MONTHS)\n",
    "    df.loc[:, \"NIMTA_AVG\"] = df['NIMTA_3MONTHS'].rolling(11).apply(compute_NIMTA_AVG)    \n",
    "    \n",
    "    return df\n",
    "\n",
    "\n",
    "def compute_EXRET_AVG(values):\n",
    "    weight = math.pow(2, -1.0/3)\n",
    "\n",
    "    output_value = 0\n",
    "    for index, value in enumerate(reversed(values[:12])):\n",
    "        output_value += math.pow(weight, index) * value\n",
    "    \n",
    "    output_value = output_value * (1 - weight) / (1 - math.pow(weight, 12))\n",
    "\n",
    "    return output_value\n",
    "\n",
    "\n",
    "def compute_NIMTA_3MONTHS(values):\n",
    "    return np.mean(values[:3])\n",
    "\n",
    "\n",
    "def compute_NIMTA_AVG(values):\n",
    "    weight = math.pow(2, -1.0/3)\n",
    "\n",
    "    output_value = 0\n",
    "    for index, value in enumerate(reversed(values[:10])):\n",
    "        output_value += math.pow(weight, index) * value\n",
    "    \n",
    "    output_value = output_value * (1 - math.pow(weight, 3)) / (1 - math.pow(weight, 12))\n",
    "\n",
    "    return output_value\n",
    "    \n",
    "\n",
    "def winsorize_df(df, var_list=None):\n",
    "    \"\"\"Winsorizes the variables specified in the var_list at 5th and 95th percentile\n",
    "    \"\"\"\n",
    "    \n",
    "    if var_list == None:\n",
    "        var_list = [\n",
    "            'CASHMTA',\n",
    "            'EXRET_AVG',\n",
    "            'PRICE',\n",
    "            'MB',\n",
    "            'NIMTA_AVG',\n",
    "            'RSIZE',\n",
    "            'SIGMA',\n",
    "            'TLMTA'\n",
    "        ]\n",
    "        \n",
    "    for var in var_list:\n",
    "        print(\"Winsorizing {0} variable\".format(var))\n",
    "        column_name = var + '_win'\n",
    "        win_df = df.dropna(subset=[var])\n",
    "        win_df.loc[:, column_name] = mstats.winsorize(win_df[var], limits=(0.05, 0.05))\n",
    "        df = df.join(win_df[column_name])\n",
    "    \n",
    "    print(\"Finished winsorizing variables\")\n",
    "\n",
    "    return df \n",
    "\n",
    "    \n",
    "def get_month_diff(row):\n",
    "    if row['is_bankrupt']:\n",
    "        year_diff = row['deletion_year'] - row['year']\n",
    "        months_diff = row['deletion_month'] - row['month']\n",
    "        if year_diff > 0:\n",
    "            months_diff = 12 * year_diff + months_diff \n",
    "\n",
    "        return months_diff \n",
    "    else:\n",
    "        return np.nan\n",
    "    \n",
    "    \n",
    "def make_month_diff_column(df):\n",
    "    df = df.sort_values(by=['PERMNO', 'year', 'month'])\n",
    "    df.loc[:, 'month_diff'] = df.apply(lambda row: get_month_diff(row), axis=1)\n",
    "    \n",
    "    return df\n",
    "\n",
    "    \n",
    "def make_bankruptcy_column(df, month):\n",
    "    df = df.sort_values(by=['PERMNO', 'year', 'month'])\n",
    "    df.loc[:, 'is_bankrupt_within_'+str(month)] = np.where(df['month_diff'] <= month, True, False)\n",
    "    \n",
    "    return df \n",
    "    \n",
    "    \n",
    "def make_bankruptcy_df(df, month):\n",
    "    df = make_bankruptcy_column(df, month)\n",
    "    bankrupt_df = df[df['is_bankrupt_within_'+str(month)] == True]\n",
    "    bankrupt_series = bankrupt_df.duplicated(subset=['PERMNO']).sort_index()\n",
    "    exit_index = bankrupt_series[bankrupt_series == True]\n",
    "    # Only keep the first bankruptcy observation for each firm and remove all the later observations \n",
    "    df = df[~df.index.isin(exit_index.index)]\n",
    "    \n",
    "    return df \n",
    "    \n",
    "    \n",
    "# Filter functions\n",
    "def filter_exchange_df(df):\n",
    "    \"\"\"Filter for only stocks in NYSE, American Stock Exchange, and NASDAQ\n",
    "    Stock Exchange Codes\n",
    "    11 - NYSE\n",
    "    12 - American Stock Exchange\n",
    "    14 - NASDAQ-NMS\n",
    "    \"\"\"\n",
    "    return df[df['exchg'].isin([11, 12, 14])]\n",
    "\n",
    "\n",
    "def get_industry_code(code_int):\n",
    "    \"\"\"Helper functions for filter_industry_df\n",
    "    \"\"\"\n",
    "    if np.isnan(code_int):\n",
    "        return 0\n",
    "    else:\n",
    "        code_int = int(code_int)\n",
    "        code_str = str(code_int)\n",
    "        if len(code_str) == 3:\n",
    "            industry_code = int(code_str[0])\n",
    "        else:\n",
    "            industry_code = int(code_str[:2])\n",
    "\n",
    "    return industry_code\n",
    "\n",
    "\n",
    "def filter_industry_df(df):\n",
    "    \"\"\"Filter out finance, industry, real estate, and nonclassifiable industries\n",
    "    \n",
    "    SIC Codes Reference: https://www.osha.gov/pls/imis/sic_manual.html\n",
    "    60 - Depository Institutions\n",
    "    61 - Non-depository Institutions\n",
    "    62 - Security and Commodity Brokers, Dealers, Exchanges, and Services\n",
    "    63 - Insurance Carriers\n",
    "    64 - Insurance Agents, Brokers, and Services\n",
    "    65 - Real Estate\n",
    "    67 - Holding and Other Investment Offices\n",
    "    99 - Nonclassifiable establishments\n",
    "    \"\"\"\n",
    "    df.loc[:, 'sic_code'] = df['sic'].map(lambda x: get_industry_code(x))\n",
    "    industry_filter = [60, 61, 62, 63, 64, 65, 67, 99]\n",
    "    \n",
    "    return df[~df['sic_code'].isin(industry_filter)]\n",
    "\n",
    "\n",
    "# Check functions\n",
    "def get_bankruptcy_count(df):\n",
    "    df = df.drop_duplicates(subset=['PERMNO'])\n",
    "    return df[df['is_bankrupt'] == True].shape\n",
    "\n",
    "\n",
    "def get_last_observation_df(df):\n",
    "    df = df[df['is_bankrupt'] == True]\n",
    "    df = df.sort_values(by=['PERMNO', 'year', 'month'])\n",
    "    df = df.drop_duplicates(subset=['PERMNO'], keep='last')\n",
    "\n",
    "    return df\n",
    "\n",
    "\n",
    "# I/O functions\n",
    "def make_simple_campbell_df(df, month):\n",
    "    df = df[[\n",
    "            'PERMNO',\n",
    "            'datadate',\n",
    "            'lagged_date',\n",
    "            'year',\n",
    "            'month',\n",
    "            'company_name',\n",
    "            'CASHMTA_win',\n",
    "            'EXRET_AVG_win',\n",
    "            'MB_win',\n",
    "            'NIMTA_AVG_win',\n",
    "            'PRICE_win',\n",
    "            'RSIZE_win',\n",
    "            'SIGMA_win',\n",
    "            'TLMTA_win',\n",
    "            'month_diff',\n",
    "            'is_bankrupt',\n",
    "            'is_bankrupt_within_'+str(month),\n",
    "            'dldte',\n",
    "            'deletion_year',\n",
    "            'deletion_month'          \n",
    "        ]]\n",
    "    \n",
    "    return df\n"
   ]
  },
  {
   "cell_type": "markdown",
   "metadata": {},
   "source": [
    "# Read Data"
   ]
  },
  {
   "cell_type": "code",
   "execution_count": 48,
   "metadata": {
    "collapsed": false
   },
   "outputs": [
    {
     "name": "stderr",
     "output_type": "stream",
     "text": [
      "/usr/local/lib/python2.7/site-packages/IPython/core/interactiveshell.py:2717: DtypeWarning: Columns (2) have mixed types. Specify dtype option on import or set low_memory=False.\n",
      "  interactivity=interactivity, compiler=compiler, result=result)\n"
     ]
    }
   ],
   "source": [
    "crspcs_qtrly_df = pd.read_csv(\"../Data/original_data/crsp_cs_merged_data_1961_2016.csv\", parse_dates=['datadate', 'dldte'])"
   ]
  },
  {
   "cell_type": "code",
   "execution_count": null,
   "metadata": {
    "collapsed": true
   },
   "outputs": [],
   "source": [
    "crsp_monthly_equity_df = pd.read_csv(\"../Data/original_data/crsp_monthly_equity_1961_2015.csv\", parse_dates=['date'])"
   ]
  },
  {
   "cell_type": "code",
   "execution_count": null,
   "metadata": {
    "collapsed": true
   },
   "outputs": [],
   "source": [
    "crsp_monthly_index_df = pd.read_csv(\"../Data/original_data/crsp_monthly_index_1961_2015.csv\", parse_dates=['caldt'])"
   ]
  },
  {
   "cell_type": "code",
   "execution_count": null,
   "metadata": {
    "collapsed": true
   },
   "outputs": [],
   "source": [
    "SIGMA_df = pd.read_csv(\"../Data/campbell_data/campbell_SIGMA.csv\",\n",
    "    usecols=['PERMNO', 'year', 'month', 'SIGMA'],\n",
    "    dtype={\n",
    "        'PERMNO': np.int32,\n",
    "        'year': np.int32,  \n",
    "        'month': np.int32,\n",
    "        'SIGMA': np.float64,\n",
    "    }                                   \n",
    ")"
   ]
  },
  {
   "cell_type": "markdown",
   "metadata": {
    "collapsed": false
   },
   "source": [
    "# Transform Data - Pre-Merge"
   ]
  },
  {
   "cell_type": "code",
   "execution_count": 49,
   "metadata": {
    "collapsed": true
   },
   "outputs": [],
   "source": [
    "transformed_crspcs_qtrly_df = transform_crspcs_qtrly_df(crspcs_qtrly_df)"
   ]
  },
  {
   "cell_type": "code",
   "execution_count": null,
   "metadata": {
    "collapsed": false
   },
   "outputs": [],
   "source": [
    "transformed_crsp_monthly_equity_df = transform_crsp_monthly_equity_df(crsp_monthly_equity_df)"
   ]
  },
  {
   "cell_type": "code",
   "execution_count": null,
   "metadata": {
    "collapsed": false
   },
   "outputs": [],
   "source": [
    "transformed_crsp_monthly_index_df = transform_crsp_monthly_index_df(crsp_monthly_index_df)"
   ]
  },
  {
   "cell_type": "code",
   "execution_count": null,
   "metadata": {
    "collapsed": true
   },
   "outputs": [],
   "source": [
    "crspcs_monthly_df = convert_qtrly_to_monthly(transformed_crspcs_qtrly_df)"
   ]
  },
  {
   "cell_type": "markdown",
   "metadata": {
    "collapsed": true
   },
   "source": [
    "# Merge Data  "
   ]
  },
  {
   "cell_type": "code",
   "execution_count": null,
   "metadata": {
    "collapsed": true
   },
   "outputs": [],
   "source": [
    "merged_crsp_df = merge_crsp_equity_and_index_df(transformed_crsp_monthly_equity_df, transformed_crsp_monthly_index_df)"
   ]
  },
  {
   "cell_type": "code",
   "execution_count": null,
   "metadata": {
    "collapsed": true
   },
   "outputs": [],
   "source": [
    "merged_df = merge_crspcs_and_crsp_df(crspcs_monthly_df, merged_crsp_df)"
   ]
  },
  {
   "cell_type": "code",
   "execution_count": null,
   "metadata": {
    "collapsed": false
   },
   "outputs": [],
   "source": [
    "merged_df = merge_merged_df_and_sigma_df(merged_df, SIGMA_df)"
   ]
  },
  {
   "cell_type": "markdown",
   "metadata": {},
   "source": [
    "# Transform Data - Post-Merge"
   ]
  },
  {
   "cell_type": "code",
   "execution_count": null,
   "metadata": {
    "collapsed": false
   },
   "outputs": [],
   "source": [
    "transformed_merged_df = transform_merged_df(merged_df)"
   ]
  },
  {
   "cell_type": "code",
   "execution_count": null,
   "metadata": {
    "collapsed": false
   },
   "outputs": [],
   "source": [
    "transformed_merged_df[transformed_merged_df['TICKER'] == 'AAPL']"
   ]
  },
  {
   "cell_type": "markdown",
   "metadata": {},
   "source": [
    "# Make Variables"
   ]
  },
  {
   "cell_type": "code",
   "execution_count": null,
   "metadata": {
    "collapsed": false
   },
   "outputs": [],
   "source": [
    "campbell_df = make_campbell_df(transformed_merged_df)"
   ]
  },
  {
   "cell_type": "code",
   "execution_count": null,
   "metadata": {
    "collapsed": false
   },
   "outputs": [],
   "source": [
    "winsorized_campbell_df = winsorize_df(campbell_df)"
   ]
  },
  {
   "cell_type": "code",
   "execution_count": null,
   "metadata": {
    "collapsed": false
   },
   "outputs": [],
   "source": [
    "winsorized_campbell_df_sorted = winsorized_campbell_df.sort_values(by=['PERMNO', 'fyearq', 'fqtr', 'year', 'month'])"
   ]
  },
  {
   "cell_type": "code",
   "execution_count": null,
   "metadata": {
    "collapsed": false
   },
   "outputs": [],
   "source": [
    "winsorized_campbell_df_sorted.to_csv(\"../Data/campbell_data/winsorized_annual_campbell_df.csv\")"
   ]
  },
  {
   "cell_type": "code",
   "execution_count": 4,
   "metadata": {
    "collapsed": false
   },
   "outputs": [
    {
     "name": "stderr",
     "output_type": "stream",
     "text": [
      "/usr/local/lib/python2.7/site-packages/IPython/core/interactiveshell.py:2717: DtypeWarning: Columns (3,8,17,55) have mixed types. Specify dtype option on import or set low_memory=False.\n",
      "  interactivity=interactivity, compiler=compiler, result=result)\n"
     ]
    }
   ],
   "source": [
    "winsorized_campbell_df_sorted = pd.read_csv(\"../Data/campbell_data/winsorized_annual_campbell_df.csv\")"
   ]
  },
  {
   "cell_type": "markdown",
   "metadata": {},
   "source": [
    "# Filter Data"
   ]
  },
  {
   "cell_type": "code",
   "execution_count": 5,
   "metadata": {
    "collapsed": false
   },
   "outputs": [],
   "source": [
    "filtered_industry_df = filter_industry_df(winsorized_campbell_df_sorted)"
   ]
  },
  {
   "cell_type": "code",
   "execution_count": 6,
   "metadata": {
    "collapsed": true
   },
   "outputs": [],
   "source": [
    "month_diff_df = make_month_diff_column(filtered_industry_df)"
   ]
  },
  {
   "cell_type": "code",
   "execution_count": 7,
   "metadata": {
    "collapsed": false
   },
   "outputs": [],
   "source": [
    "non_neg_month_diff_df = month_diff_df.drop(month_diff_df[month_diff_df['month_diff'] < 0].index)"
   ]
  },
  {
   "cell_type": "markdown",
   "metadata": {},
   "source": [
    "# Create monthly, quarterly, annual data"
   ]
  },
  {
   "cell_type": "code",
   "execution_count": 8,
   "metadata": {
    "collapsed": true
   },
   "outputs": [],
   "source": [
    "monthly_campbell_df = non_neg_month_diff_df.sort_values(by=['PERMNO', 'fyearq', 'fqtr', 'year', 'month'])"
   ]
  },
  {
   "cell_type": "code",
   "execution_count": 9,
   "metadata": {
    "collapsed": true
   },
   "outputs": [],
   "source": [
    "quarterly_campbell_df = monthly_campbell_df.drop_duplicates(subset=['PERMNO', 'fyearq', 'fqtr'], keep='first')"
   ]
  },
  {
   "cell_type": "code",
   "execution_count": 10,
   "metadata": {
    "collapsed": false
   },
   "outputs": [],
   "source": [
    "annual_campbell_df = quarterly_campbell_df.drop_duplicates(subset=['PERMNO', 'year'], keep='last')"
   ]
  },
  {
   "cell_type": "markdown",
   "metadata": {},
   "source": [
    "# Mark bankruptcies dataframes"
   ]
  },
  {
   "cell_type": "code",
   "execution_count": 17,
   "metadata": {
    "collapsed": true
   },
   "outputs": [],
   "source": [
    "monthly_campbell_df_0 = make_bankruptcy_df(monthly_campbell_df, 0)\n",
    "monthly_campbell_df_6 = make_bankruptcy_df(monthly_campbell_df, 6)\n",
    "monthly_campbell_df_12 = make_bankruptcy_df(monthly_campbell_df, 12)\n",
    "monthly_campbell_df_24 = make_bankruptcy_df(monthly_campbell_df, 24)\n",
    "monthly_campbell_df_36 = make_bankruptcy_df(monthly_campbell_df, 36)\n"
   ]
  },
  {
   "cell_type": "code",
   "execution_count": 11,
   "metadata": {
    "collapsed": true
   },
   "outputs": [],
   "source": [
    "quarterly_campbell_df_6 = make_bankruptcy_df(quarterly_campbell_df, 6)\n",
    "quarterly_campbell_df_12 = make_bankruptcy_df(quarterly_campbell_df, 12)\n",
    "quarterly_campbell_df_24 = make_bankruptcy_df(quarterly_campbell_df, 24)\n",
    "quarterly_campbell_df_36 = make_bankruptcy_df(quarterly_campbell_df, 36)"
   ]
  },
  {
   "cell_type": "code",
   "execution_count": 18,
   "metadata": {
    "collapsed": false
   },
   "outputs": [],
   "source": [
    "annual_campbell_df_12 = make_bankruptcy_df(annual_campbell_df, 12)\n",
    "annual_campbell_df_24 = make_bankruptcy_df(annual_campbell_df, 24)\n",
    "annual_campbell_df_36 = make_bankruptcy_df(annual_campbell_df, 36)"
   ]
  },
  {
   "cell_type": "markdown",
   "metadata": {},
   "source": [
    "# Check Data"
   ]
  },
  {
   "cell_type": "code",
   "execution_count": 14,
   "metadata": {
    "collapsed": false
   },
   "outputs": [
    {
     "data": {
      "text/plain": [
       "count    1227.000000\n",
       "mean       28.095355\n",
       "std        36.885541\n",
       "min         0.000000\n",
       "25%        13.000000\n",
       "50%        18.000000\n",
       "75%        29.000000\n",
       "max       358.000000\n",
       "Name: month_diff, dtype: float64"
      ]
     },
     "execution_count": 14,
     "metadata": {},
     "output_type": "execute_result"
    }
   ],
   "source": [
    "last_annual_observation_df = get_last_observation_df(a nnual_campbell_df)\n",
    "last_annual_observation_df['month_diff'].describe()"
   ]
  },
  {
   "cell_type": "code",
   "execution_count": 15,
   "metadata": {
    "collapsed": false,
    "scrolled": true
   },
   "outputs": [
    {
     "data": {
      "text/plain": [
       "array([[<matplotlib.axes._subplots.AxesSubplot object at 0x17724bf50>]], dtype=object)"
      ]
     },
     "execution_count": 15,
     "metadata": {},
     "output_type": "execute_result"
    },
    {
     "data": {
      "image/png": "[encoded data removed]",
      "text/plain": [
       "<matplotlib.figure.Figure at 0x17724ba50>"
      ]
     },
     "metadata": {},
     "output_type": "display_data"
    }
   ],
   "source": [
    "last_annual_observation_df.hist(column=['month_diff'], range=[0, 100], bins=100)"
   ]
  },
  {
   "cell_type": "code",
   "execution_count": 13,
   "metadata": {
    "collapsed": false
   },
   "outputs": [
    {
     "data": {
      "text/plain": [
       "count    1227.000000\n",
       "mean       26.258354\n",
       "std        36.783427\n",
       "min         0.000000\n",
       "25%        11.000000\n",
       "50%        16.000000\n",
       "75%        27.000000\n",
       "max       356.000000\n",
       "Name: month_diff, dtype: float64"
      ]
     },
     "execution_count": 13,
     "metadata": {},
     "output_type": "execute_result"
    }
   ],
   "source": [
    "last_monthly_observation_df = get_last_observation_df(monthly_campbell_df)\n",
    "last_monthly_observation_df['month_diff'].describe()"
   ]
  },
  {
   "cell_type": "code",
   "execution_count": 24,
   "metadata": {
    "collapsed": true
   },
   "outputs": [],
   "source": [
    "default_df_12 = annual_campbell_df_12[annual_campbell_df_12['is_bankrupt_within_12'] == True]"
   ]
  },
  {
   "cell_type": "code",
   "execution_count": 27,
   "metadata": {
    "collapsed": true
   },
   "outputs": [],
   "source": [
    "default_df_24 = annual_campbell_df_24[annual_campbell_df_24['is_bankrupt_within_24'] == True]"
   ]
  },
  {
   "cell_type": "code",
   "execution_count": 23,
   "metadata": {
    "collapsed": false
   },
   "outputs": [],
   "source": [
    "default_df_36 = annual_campbell_df_36[annual_campbell_df_36['is_bankrupt_within_36'] == True]"
   ]
  },
  {
   "cell_type": "code",
   "execution_count": 29,
   "metadata": {
    "collapsed": false
   },
   "outputs": [
    {
     "name": "stdout",
     "output_type": "stream",
     "text": [
      "(298, 96)\n",
      "(834, 96)\n",
      "(1005, 96)\n"
     ]
    }
   ],
   "source": [
    "print(default_df_12.shape)\n",
    "print(default_df_24.shape)\n",
    "print(default_df_36.shape)"
   ]
  },
  {
   "cell_type": "code",
   "execution_count": 45,
   "metadata": {
    "collapsed": false
   },
   "outputs": [
    {
     "data": {
      "text/html": [
       "<div>\n",
       "<table border=\"1\" class=\"dataframe\">\n",
       "  <thead>\n",
       "    <tr style=\"text-align: right;\">\n",
       "      <th></th>\n",
       "      <th>Unnamed: 0</th>\n",
       "      <th>GVKEY</th>\n",
       "      <th>LINKPRIM</th>\n",
       "      <th>LIID</th>\n",
       "      <th>LINKTYPE</th>\n",
       "      <th>PERMNO</th>\n",
       "      <th>PERMCO_x</th>\n",
       "      <th>LINKDT</th>\n",
       "      <th>LINKENDDT</th>\n",
       "      <th>datadate</th>\n",
       "      <th>...</th>\n",
       "      <th>CASHMTA_win</th>\n",
       "      <th>EXRET_AVG_win</th>\n",
       "      <th>PRICE_win</th>\n",
       "      <th>MB_win</th>\n",
       "      <th>NIMTA_AVG_win</th>\n",
       "      <th>RSIZE_win</th>\n",
       "      <th>SIGMA_win</th>\n",
       "      <th>TLMTA_win</th>\n",
       "      <th>sic_code</th>\n",
       "      <th>month_diff</th>\n",
       "    </tr>\n",
       "  </thead>\n",
       "  <tbody>\n",
       "    <tr>\n",
       "      <th>1405380</th>\n",
       "      <td>1405380</td>\n",
       "      <td>8065</td>\n",
       "      <td>C</td>\n",
       "      <td>1</td>\n",
       "      <td>LU</td>\n",
       "      <td>58879</td>\n",
       "      <td>3318</td>\n",
       "      <td>19790131</td>\n",
       "      <td>19870923</td>\n",
       "      <td>1981-08-31</td>\n",
       "      <td>...</td>\n",
       "      <td>NaN</td>\n",
       "      <td>0.003264</td>\n",
       "      <td>0.693147</td>\n",
       "      <td>NaN</td>\n",
       "      <td>0.025192</td>\n",
       "      <td>-11.503312</td>\n",
       "      <td>0.124878</td>\n",
       "      <td>NaN</td>\n",
       "      <td>13</td>\n",
       "      <td>405.0</td>\n",
       "    </tr>\n",
       "    <tr>\n",
       "      <th>1405392</th>\n",
       "      <td>1405392</td>\n",
       "      <td>8065</td>\n",
       "      <td>C</td>\n",
       "      <td>1</td>\n",
       "      <td>LU</td>\n",
       "      <td>58879</td>\n",
       "      <td>3318</td>\n",
       "      <td>19790131</td>\n",
       "      <td>19870923</td>\n",
       "      <td>1982-08-31</td>\n",
       "      <td>...</td>\n",
       "      <td>0.021042</td>\n",
       "      <td>-0.014068</td>\n",
       "      <td>0.523248</td>\n",
       "      <td>2.451541</td>\n",
       "      <td>0.020132</td>\n",
       "      <td>-11.735915</td>\n",
       "      <td>0.163792</td>\n",
       "      <td>0.314314</td>\n",
       "      <td>13</td>\n",
       "      <td>393.0</td>\n",
       "    </tr>\n",
       "    <tr>\n",
       "      <th>1405404</th>\n",
       "      <td>1405404</td>\n",
       "      <td>8065</td>\n",
       "      <td>C</td>\n",
       "      <td>1</td>\n",
       "      <td>LU</td>\n",
       "      <td>58879</td>\n",
       "      <td>3318</td>\n",
       "      <td>19790131</td>\n",
       "      <td>19870923</td>\n",
       "      <td>1983-08-31</td>\n",
       "      <td>...</td>\n",
       "      <td>0.012715</td>\n",
       "      <td>-0.057910</td>\n",
       "      <td>0.405465</td>\n",
       "      <td>2.207749</td>\n",
       "      <td>0.043489</td>\n",
       "      <td>-11.355499</td>\n",
       "      <td>0.218772</td>\n",
       "      <td>0.346071</td>\n",
       "      <td>13</td>\n",
       "      <td>381.0</td>\n",
       "    </tr>\n",
       "    <tr>\n",
       "      <th>1405416</th>\n",
       "      <td>1405416</td>\n",
       "      <td>8065</td>\n",
       "      <td>C</td>\n",
       "      <td>1</td>\n",
       "      <td>LU</td>\n",
       "      <td>58879</td>\n",
       "      <td>3318</td>\n",
       "      <td>19790131</td>\n",
       "      <td>19870923</td>\n",
       "      <td>1984-08-31</td>\n",
       "      <td>...</td>\n",
       "      <td>0.025440</td>\n",
       "      <td>-0.036263</td>\n",
       "      <td>0.060625</td>\n",
       "      <td>1.667894</td>\n",
       "      <td>-0.004996</td>\n",
       "      <td>-11.862749</td>\n",
       "      <td>0.150634</td>\n",
       "      <td>0.499665</td>\n",
       "      <td>13</td>\n",
       "      <td>369.0</td>\n",
       "    </tr>\n",
       "    <tr>\n",
       "      <th>1405428</th>\n",
       "      <td>1405428</td>\n",
       "      <td>8065</td>\n",
       "      <td>C</td>\n",
       "      <td>1</td>\n",
       "      <td>LU</td>\n",
       "      <td>58879</td>\n",
       "      <td>3318</td>\n",
       "      <td>19790131</td>\n",
       "      <td>19870923</td>\n",
       "      <td>1985-08-31</td>\n",
       "      <td>...</td>\n",
       "      <td>0.005538</td>\n",
       "      <td>0.054021</td>\n",
       "      <td>0.283772</td>\n",
       "      <td>1.955233</td>\n",
       "      <td>-0.003656</td>\n",
       "      <td>-11.706976</td>\n",
       "      <td>0.133226</td>\n",
       "      <td>0.484772</td>\n",
       "      <td>13</td>\n",
       "      <td>357.0</td>\n",
       "    </tr>\n",
       "    <tr>\n",
       "      <th>1405440</th>\n",
       "      <td>1405440</td>\n",
       "      <td>8065</td>\n",
       "      <td>C</td>\n",
       "      <td>1</td>\n",
       "      <td>LU</td>\n",
       "      <td>58879</td>\n",
       "      <td>3318</td>\n",
       "      <td>19790131</td>\n",
       "      <td>19870923</td>\n",
       "      <td>1986-08-31</td>\n",
       "      <td>...</td>\n",
       "      <td>0.009014</td>\n",
       "      <td>-0.055716</td>\n",
       "      <td>-0.105361</td>\n",
       "      <td>1.405530</td>\n",
       "      <td>-0.055826</td>\n",
       "      <td>-12.740873</td>\n",
       "      <td>0.209467</td>\n",
       "      <td>0.688396</td>\n",
       "      <td>13</td>\n",
       "      <td>345.0</td>\n",
       "    </tr>\n",
       "    <tr>\n",
       "      <th>1405452</th>\n",
       "      <td>1405452</td>\n",
       "      <td>8065</td>\n",
       "      <td>C</td>\n",
       "      <td>1</td>\n",
       "      <td>LU</td>\n",
       "      <td>58879</td>\n",
       "      <td>3318</td>\n",
       "      <td>19790131</td>\n",
       "      <td>19870923</td>\n",
       "      <td>1987-08-31</td>\n",
       "      <td>...</td>\n",
       "      <td>NaN</td>\n",
       "      <td>-0.017806</td>\n",
       "      <td>-0.105361</td>\n",
       "      <td>NaN</td>\n",
       "      <td>-0.006237</td>\n",
       "      <td>NaN</td>\n",
       "      <td>NaN</td>\n",
       "      <td>NaN</td>\n",
       "      <td>13</td>\n",
       "      <td>333.0</td>\n",
       "    </tr>\n",
       "  </tbody>\n",
       "</table>\n",
       "<p>7 rows × 95 columns</p>\n",
       "</div>"
      ],
      "text/plain": [
       "         Unnamed: 0  GVKEY LINKPRIM LIID LINKTYPE  PERMNO  PERMCO_x    LINKDT  \\\n",
       "1405380     1405380   8065        C    1       LU   58879      3318  19790131   \n",
       "1405392     1405392   8065        C    1       LU   58879      3318  19790131   \n",
       "1405404     1405404   8065        C    1       LU   58879      3318  19790131   \n",
       "1405416     1405416   8065        C    1       LU   58879      3318  19790131   \n",
       "1405428     1405428   8065        C    1       LU   58879      3318  19790131   \n",
       "1405440     1405440   8065        C    1       LU   58879      3318  19790131   \n",
       "1405452     1405452   8065        C    1       LU   58879      3318  19790131   \n",
       "\n",
       "        LINKENDDT    datadate    ...      CASHMTA_win  EXRET_AVG_win  \\\n",
       "1405380  19870923  1981-08-31    ...              NaN       0.003264   \n",
       "1405392  19870923  1982-08-31    ...         0.021042      -0.014068   \n",
       "1405404  19870923  1983-08-31    ...         0.012715      -0.057910   \n",
       "1405416  19870923  1984-08-31    ...         0.025440      -0.036263   \n",
       "1405428  19870923  1985-08-31    ...         0.005538       0.054021   \n",
       "1405440  19870923  1986-08-31    ...         0.009014      -0.055716   \n",
       "1405452  19870923  1987-08-31    ...              NaN      -0.017806   \n",
       "\n",
       "        PRICE_win    MB_win NIMTA_AVG_win  RSIZE_win SIGMA_win TLMTA_win  \\\n",
       "1405380  0.693147       NaN      0.025192 -11.503312  0.124878       NaN   \n",
       "1405392  0.523248  2.451541      0.020132 -11.735915  0.163792  0.314314   \n",
       "1405404  0.405465  2.207749      0.043489 -11.355499  0.218772  0.346071   \n",
       "1405416  0.060625  1.667894     -0.004996 -11.862749  0.150634  0.499665   \n",
       "1405428  0.283772  1.955233     -0.003656 -11.706976  0.133226  0.484772   \n",
       "1405440 -0.105361  1.405530     -0.055826 -12.740873  0.209467  0.688396   \n",
       "1405452 -0.105361       NaN     -0.006237        NaN       NaN       NaN   \n",
       "\n",
       "        sic_code month_diff  \n",
       "1405380       13      405.0  \n",
       "1405392       13      393.0  \n",
       "1405404       13      381.0  \n",
       "1405416       13      369.0  \n",
       "1405428       13      357.0  \n",
       "1405440       13      345.0  \n",
       "1405452       13      333.0  \n",
       "\n",
       "[7 rows x 95 columns]"
      ]
     },
     "execution_count": 45,
     "metadata": {},
     "output_type": "execute_result"
    }
   ],
   "source": [
    "annual_campbell_df[annual_campbell_df['PERMNO'] == 58879]"
   ]
  },
  {
   "cell_type": "markdown",
   "metadata": {
    "collapsed": true
   },
   "source": [
    "# Save Data"
   ]
  },
  {
   "cell_type": "code",
   "execution_count": null,
   "metadata": {
    "collapsed": true
   },
   "outputs": [],
   "source": [
    "final_df.to_csv(\"../Data/campbell_data/complete_annual_campbell_df.csv\")"
   ]
  },
  {
   "cell_type": "code",
   "execution_count": 15,
   "metadata": {
    "collapsed": false
   },
   "outputs": [],
   "source": [
    "simple_monthly_campbell_df_0 = make_simple_campbell_df(monthly_campbell_df_0, 0)\n",
    "simple_monthly_campbell_df_6 = make_simple_campbell_df(monthly_campbell_df_6, 6)\n",
    "simple_monthly_campbell_df_12 = make_simple_campbell_df(monthly_campbell_df_12, 12)\n",
    "simple_monthly_campbell_df_24 = make_simple_campbell_df(monthly_campbell_df_24, 24)\n",
    "simple_monthly_campbell_df_36 = make_simple_campbell_df(monthly_campbell_df_36, 36)"
   ]
  },
  {
   "cell_type": "code",
   "execution_count": 16,
   "metadata": {
    "collapsed": true
   },
   "outputs": [],
   "source": [
    "simple_quarterly_campbell_df_6 = make_simple_campbell_df(quarterly_campbell_df_6, 6)\n",
    "simple_quarterly_campbell_df_12 = make_simple_campbell_df(quarterly_campbell_df_12, 12)\n",
    "simple_quarterly_campbell_df_24 = make_simple_campbell_df(quarterly_campbell_df_24, 24)\n",
    "simple_quarterly_campbell_df_36 = make_simple_campbell_df(quarterly_campbell_df_36, 36)"
   ]
  },
  {
   "cell_type": "code",
   "execution_count": 17,
   "metadata": {
    "collapsed": true
   },
   "outputs": [],
   "source": [
    "simple_annual_campbell_df_12 = make_simple_campbell_df(annual_campbell_df_12, 12)\n",
    "simple_annual_campbell_df_24 = make_simple_campbell_df(annual_campbell_df_24, 24)\n",
    "simple_annual_campbell_df_36 = make_simple_campbell_df(annual_campbell_df_36, 36)"
   ]
  },
  {
   "cell_type": "code",
   "execution_count": 24,
   "metadata": {
    "collapsed": true
   },
   "outputs": [],
   "source": [
    "simple_monthly_campbell_df_0.to_csv(\"../../../../Development/econ985/campbell_data/simple_monthly_campbell_df_0.csv\")"
   ]
  },
  {
   "cell_type": "code",
   "execution_count": 25,
   "metadata": {
    "collapsed": true
   },
   "outputs": [],
   "source": [
    "simple_monthly_campbell_df_6.to_csv(\"../../../../Development/econ985/campbell_data/simple_monthly_campbell_df_6.csv\")"
   ]
  },
  {
   "cell_type": "code",
   "execution_count": 26,
   "metadata": {
    "collapsed": true
   },
   "outputs": [],
   "source": [
    "simple_monthly_campbell_df_12.to_csv(\"../../../../Development/econ985/campbell_data/simple_monthly_campbell_df_12.csv\")"
   ]
  },
  {
   "cell_type": "code",
   "execution_count": 27,
   "metadata": {
    "collapsed": true
   },
   "outputs": [],
   "source": [
    "simple_monthly_campbell_df_24.to_csv(\"../../../../Development/econ985/campbell_data/simple_monthly_campbell_df_24.csv\")"
   ]
  },
  {
   "cell_type": "code",
   "execution_count": 28,
   "metadata": {
    "collapsed": true
   },
   "outputs": [],
   "source": [
    "simple_monthly_campbell_df_36.to_csv(\"../../../../Development/econ985/campbell_data/simple_monthly_campbell_df_36.csv\")"
   ]
  },
  {
   "cell_type": "code",
   "execution_count": 29,
   "metadata": {
    "collapsed": true
   },
   "outputs": [],
   "source": [
    "simple_quarterly_campbell_df_6.to_csv(\"../../../../Development/econ985/campbell_data/simple_quarterly_campbell_df_6.csv\")"
   ]
  },
  {
   "cell_type": "code",
   "execution_count": 30,
   "metadata": {
    "collapsed": true
   },
   "outputs": [],
   "source": [
    "simple_quarterly_campbell_df_12.to_csv(\"../../../../Development/econ985/campbell_data/simple_quarterly_campbell_df_12.csv\")"
   ]
  },
  {
   "cell_type": "code",
   "execution_count": 31,
   "metadata": {
    "collapsed": true
   },
   "outputs": [],
   "source": [
    "simple_quarterly_campbell_df_24.to_csv(\"../../../../Development/econ985/campbell_data/simple_quarterly_campbell_df_24.csv\")"
   ]
  },
  {
   "cell_type": "code",
   "execution_count": 32,
   "metadata": {
    "collapsed": true
   },
   "outputs": [],
   "source": [
    "simple_quarterly_campbell_df_36.to_csv(\"../../../../Development/econ985/campbell_data/simple_quarterly_campbell_df_36.csv\")"
   ]
  },
  {
   "cell_type": "code",
   "execution_count": 21,
   "metadata": {
    "collapsed": false
   },
   "outputs": [],
   "source": [
    "simple_annual_campbell_df_12.to_csv(\"../../../../Development/econ985/campbell_data/simple_annual_campbell_df_12.csv\")"
   ]
  },
  {
   "cell_type": "code",
   "execution_count": 22,
   "metadata": {
    "collapsed": true
   },
   "outputs": [],
   "source": [
    "simple_annual_campbell_df_24.to_csv(\"../../../../Development/econ985/campbell_data/simple_annual_campbell_df_24.csv\")"
   ]
  },
  {
   "cell_type": "code",
   "execution_count": 23,
   "metadata": {
    "collapsed": true
   },
   "outputs": [],
   "source": [
    "simple_annual_campbell_df_36.to_csv(\"../../../../Development/econ985/campbell_data/simple_annual_campbell_df_36.csv\")"
   ]
  },
  {
   "cell_type": "code",
   "execution_count": null,
   "metadata": {
    "collapsed": true
   },
   "outputs": [],
   "source": []
  }
 ],
 "metadata": {
  "anaconda-cloud": {},
  "kernelspec": {
   "display_name": "Python [default]",
   "language": "python",
   "name": "python2"
  },
  "language_info": {
   "codemirror_mode": {
    "name": "ipython",
    "version": 2
   },
   "file_extension": ".py",
   "mimetype": "text/x-python",
   "name": "python",
   "nbconvert_exporter": "python",
   "pygments_lexer": "ipython2",
   "version": "2.7.12"
  }
 },
 "nbformat": 4,
 "nbformat_minor": 1
}
