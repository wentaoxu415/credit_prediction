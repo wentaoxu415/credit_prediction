{
 "cells": [
  {
   "cell_type": "code",
   "execution_count": null,
   "metadata": {
    "collapsed": false
   },
   "outputs": [],
   "source": [
    "import pandas as pd\n",
    "import numpy as np\n",
    "from IPython.display import display\n",
    "from ipython_helpers import (\n",
    "    print_full\n",
    ")"
   ]
  },
  {
   "cell_type": "code",
   "execution_count": null,
   "metadata": {
    "collapsed": false
   },
   "outputs": [],
   "source": [
    "def transform_quarterly_equity_df(df):\n",
    "    # Fix the unit of outstanding shares\n",
    "    df.loc[:, 'out_shares'] = df['cshoq'] * 10**6\n",
    "    \n",
    "    # Fix the unit of given market value\n",
    "    df.loc[:, 'given_market_value'] = df['mkvaltq'] * 10**6\n",
    "    \n",
    "    # Compute market value based on price and outstanding shares\n",
    "    df.loc[:, 'computed_market_value'] = df['prccq'] * df['out_shares']\n",
    "    \n",
    "    # Determine market value based on the availability of given_market_value\n",
    "    # If given_market_value exists, assign the value to market_value. Otherwise, assign omputed_market_value\n",
    "    df.loc[:, 'market_value'] = np.where(pd.notnull(df['given_market_value']), df['given_market_value'], df['computed_market_value'])\n",
    "    \n",
    "    # Fix the unit of net income\n",
    "    df.loc[:, 'net_income'] = df['niy'] * 10 ** 6\n",
    "    \n",
    "    # Fix the unit of cash and short term investment\n",
    "    df.loc[:, 'cash_and_st_investment'] = df['cheq'] * 10**6\n",
    "    \n",
    "    # Fix the unit of total assets \n",
    "    df.loc[:, 'total_assets'] = df['atq'] * 10**6\n",
    "    \n",
    "    # Fix the unit of total liabilities\n",
    "    df.loc[:, 'total_liabilities'] = df['ltq'] * 10**6\n",
    "\n",
    "    # Compute book value of equity \n",
    "    df.loc[:, 'book_equity'] = df['total_assets'] - df['total_liabilities']\n",
    "\n",
    "    # Parse the datadate column to create year and month columns\n",
    "    # The year and month columns will be used to look up S&P500 market value\n",
    "    df.loc[:, 'year'] = df['datadate'].dt.year\n",
    "    df.loc[:, 'month'] = df['datadate'].dt.month\n",
    "    \n",
    "    # Rename the column to enable merge with SIGMA and EXRET dataframes \n",
    "    df.rename(columns={'tic':'TICKER', 'cusip':'CUSIP'}, inplace=True)\n",
    "    \n",
    "    # Drop the last digit from CUSIP \n",
    "    # Fundamental data from Compustat has 9 digits CUSIP while price data from CRSP has 8 digits. \n",
    "    # The 9th digit of CUSIP from Compustat needs to be removed to enable merge with SIGMA and EXRET dataframes,\n",
    "    # which are based on CRSP price data.\n",
    "    df['CUSIP'] = df['CUSIP'].astype(str).str[:-1]\n",
    "    \n",
    "    # Sort the values to establish order to the data\n",
    "    df.sort_values(['TICKER', 'CUSIP', 'year', 'month'], inplace=True)\n",
    "\n",
    "    return df\n",
    "\n",
    "\n",
    "def transform_monthly_index_df(df):\n",
    "    # 1) Fix the unit of total market value by multiplying by 1000\n",
    "    df.loc[:, 'market_value'] = df['totval'] * 1000\n",
    "\n",
    "    # 2) Parse the date column to create year and month columns\n",
    "    # The year and month columns will be used to look up S&P500 market value\n",
    "    df.loc[:, 'year'] = df['caldt'].dt.year\n",
    "    df.loc[:, 'month'] = df['caldt'].dt.month\n",
    "    \n",
    "    return df.set_index(['year', 'month'])\n",
    "\n",
    "\n",
    "def compute_RSIZE(row, index_df):\n",
    "    return np.log(row['market_value'] / index_df.loc[row['year'], row['month']]['market_value'])\n",
    "\n",
    "\n",
    "def make_campbell_features(df, index_df):\n",
    "    print(\"Currently making ADJUSTED_TOTAL_ASSETS variable\")\n",
    "    df.loc[:, 'ADJUSTED_TOTAL_ASSETS'] = df['total_assets'] + 0.1 * (df['market_value'] - df['book_equity'])\n",
    "    \n",
    "    print(\"Currently making MARKET_TOTAL_ASSETS variable\")\n",
    "    df.loc[:, 'MARKET_TOTAL_ASSETS'] = df['market_value'] + df['total_liabilities']\n",
    "\n",
    "    print(\"Currently making NITA variable\")\n",
    "    df.loc[:, 'NITA'] = df['net_income'] / df['ADJUSTED_TOTAL_ASSETS']\n",
    "\n",
    "    print(\"Currently making TLTA variable\")\n",
    "    df.loc[:, 'TLTA'] = df['total_liabilities'] / df['ADJUSTED_TOTAL_ASSETS']\n",
    "    \n",
    "    print(\"Currently making NIMTA variable\")\n",
    "    df.loc[:, 'NIMTA'] = df['net_income'] / df['MARKET_TOTAL_ASSETS']\n",
    "    \n",
    "    print(\"Currently making TLMTA variable\")\n",
    "    df.loc[:, 'TLMTA'] = df['total_liabilities'] / df['MARKET_TOTAL_ASSETS']\n",
    "    \n",
    "    print(\"Currently making CASHMTA variable\")\n",
    "    df.loc[:, 'CASHMTA'] = df['cash_and_st_investment'] / df['MARKET_TOTAL_ASSETS']\n",
    "    \n",
    "    print(\"Currently making RSIZE variable\")\n",
    "    df.loc[:, 'RSIZE']= df.apply(lambda row: compute_RSIZE(row, index_df), axis=1)\n",
    "    \n",
    "    return df \n",
    "\n",
    "\n",
    "def merge_dfs(left_df, right_df, var_name):\n",
    "    \n",
    "    right_df = right_df[['TICKER', 'CUSIP', 'year', 'month', var_name]]\n",
    "    merged_df = left_df.merge(right_df, on=['TICKER', 'CUSIP', 'year', 'month'], how='left')\n",
    "\n",
    "    return merged_df\n",
    "\n"
   ]
  },
  {
   "cell_type": "code",
   "execution_count": null,
   "metadata": {
    "collapsed": false
   },
   "outputs": [],
   "source": [
    "monthly_index_df = pd.read_csv(\"../Data/original_data/crsp_monthly_index_1961_2015.csv\", parse_dates=['caldt'])"
   ]
  },
  {
   "cell_type": "code",
   "execution_count": null,
   "metadata": {
    "collapsed": false
   },
   "outputs": [],
   "source": [
    "quarterly_equity_df = pd.read_csv(\"../Data/original_data/merged_quarterly_1961_2015.csv\", parse_dates=['datadate', 'dldte', 'ipodate'])"
   ]
  },
  {
   "cell_type": "code",
   "execution_count": null,
   "metadata": {
    "collapsed": true
   },
   "outputs": [],
   "source": [
    "SIGMA_df = pd.read_csv(\"../Data/campbell_data/campbell_SIGMA.csv\")"
   ]
  },
  {
   "cell_type": "code",
   "execution_count": null,
   "metadata": {
    "collapsed": false
   },
   "outputs": [],
   "source": [
    "EXRET_df = pd.read_csv(\"../Data/campbell_data/campbell_EXRET.csv\")"
   ]
  },
  {
   "cell_type": "code",
   "execution_count": null,
   "metadata": {
    "collapsed": false
   },
   "outputs": [],
   "source": [
    "transformed_monthly_index_df = transform_monthly_index_df(monthly_index_df)"
   ]
  },
  {
   "cell_type": "code",
   "execution_count": null,
   "metadata": {
    "collapsed": false
   },
   "outputs": [],
   "source": [
    "transformed_quarterly_equity_df = transform_quarterly_equity_df(quarterly_equity_df)"
   ]
  },
  {
   "cell_type": "code",
   "execution_count": null,
   "metadata": {
    "collapsed": false
   },
   "outputs": [],
   "source": [
    "test_df = SIGMA_df.dropna(subset=['SIGMA'])"
   ]
  },
  {
   "cell_type": "code",
   "execution_count": null,
   "metadata": {
    "collapsed": false
   },
   "outputs": [],
   "source": [
    "test_df[test_df['SIGMA'] == float(\"inf\")]"
   ]
  },
  {
   "cell_type": "code",
   "execution_count": null,
   "metadata": {
    "collapsed": true
   },
   "outputs": [],
   "source": []
  }
 ],
 "metadata": {
  "anaconda-cloud": {},
  "kernelspec": {
   "display_name": "Python [conda root]",
   "language": "python",
   "name": "conda-root-py"
  },
  "language_info": {
   "codemirror_mode": {
    "name": "ipython",
    "version": 2
   },
   "file_extension": ".py",
   "mimetype": "text/x-python",
   "name": "python",
   "nbconvert_exporter": "python",
   "pygments_lexer": "ipython2",
   "version": "2.7.12"
  }
 },
 "nbformat": 4,
 "nbformat_minor": 1
}
