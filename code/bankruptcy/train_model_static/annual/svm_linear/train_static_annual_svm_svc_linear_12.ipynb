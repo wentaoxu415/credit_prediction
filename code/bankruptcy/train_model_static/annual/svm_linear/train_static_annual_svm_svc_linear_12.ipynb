{
 "cells": [
  {
   "cell_type": "code",
   "execution_count": 26,
   "metadata": {
    "collapsed": false
   },
   "outputs": [],
   "source": [
    "import sys\n",
    "sys.path.insert(0, '../../../../')\n",
    "import pandas as pd \n",
    "import numpy as np\n",
    "import scipy\n",
    "import readline\n",
    "import matplotlib\n",
    "import matplotlib.pyplot as plt\n",
    "import sklearn\n",
    "from sklearn.svm import SVC\n",
    "from sklearn.metrics import (\n",
    "    f1_score,\n",
    "    fbeta_score,\n",
    "    make_scorer,\n",
    "    recall_score,\n",
    "    precision_score,\n",
    "    roc_curve,\n",
    "    roc_auc_score,\n",
    "    classification_report,\n",
    "    confusion_matrix\n",
    ")\n",
    "from helpers.ipython_helpers import (\n",
    "    print_full\n",
    ")\n",
    "from helpers.train_model_helpers import (\n",
    "    make_train_and_test_df,\n",
    "    train_model_by_grid_search_cv,\n",
    "    train_model_by_random_search_cv,\n",
    "    make_time_series_iterable,\n",
    "    f2_score,\n",
    "    display_all_results,\n",
    "    plot_confusion_matrix,\n",
    "    plot_roc_curve\n",
    ")\n",
    "from IPython.display import display\n",
    "from sklearn.model_selection import (\n",
    "    GridSearchCV,\n",
    "    RandomizedSearchCV\n",
    ")\n",
    "\n",
    "%matplotlib inline  "
   ]
  },
  {
   "cell_type": "markdown",
   "metadata": {},
   "source": [
    "# Read Data"
   ]
  },
  {
   "cell_type": "code",
   "execution_count": 4,
   "metadata": {
    "collapsed": false
   },
   "outputs": [],
   "source": [
    "train_df = pd.read_csv(\"../../../../../data/bankruptcy/train_test_data/annual/train_df_annual_12.csv\")\n",
    "test_df = pd.read_csv(\"../../../../../data/bankruptcy/train_test_data/annual/test_df_annual_12.csv\")"
   ]
  },
  {
   "cell_type": "code",
   "execution_count": 5,
   "metadata": {
    "collapsed": false
   },
   "outputs": [],
   "source": [
    "x_train, x_test, y_train, y_test = make_train_and_test_df(train_df, test_df)"
   ]
  },
  {
   "cell_type": "code",
   "execution_count": 46,
   "metadata": {
    "collapsed": true
   },
   "outputs": [],
   "source": [
    "def train_model_by_grid_search_cv(x_train, x_test, y_train, y_test, estimator, score, weight, tuned_parameters, custom_iterable, probability=False):\n",
    "    print(\"*****************************************************************************************\")\n",
    "    print(\"Tuning hyper-parameters for scoring of {0} and class weight of {1}\".format(score, weight))\n",
    "\n",
    "    if score == 'f2':\n",
    "        score = f2_score\n",
    "    \n",
    "    tuned_parameters['class_weight'] = [{True: weight}]\n",
    "    \n",
    "    model = GridSearchCV(estimator, tuned_parameters, cv=custom_iterable, scoring=score, verbose=1, n_jobs=-1)\n",
    "    model.fit(x_train, y_train.values.ravel())\n",
    "\n",
    "    print(\"Best parameters set found on development set:\")\n",
    "    print(model.best_params_)\n",
    "    print()\n",
    "\n",
    "    y_pred_bin = model.predict(x_test)\n",
    "    print(\"F1 Score\")\n",
    "    print(f1_score(y_test, y_pred_bin))\n",
    "\n",
    "    print(\"F2 Score\")\n",
    "    print(fbeta_score(y_test, y_pred_bin, beta=2, pos_label=True, average='binary'))\n",
    "\n",
    "    print(\"Recall Score\")\n",
    "    print(recall_score(y_test, y_pred_bin))\n",
    "\n",
    "    print(\"Precision Score\")\n",
    "    print(precision_score(y_test, y_pred_bin))\n",
    "\n",
    "    print(\"Detailed classification report:\")\n",
    "    print(classification_report(y_test, y_pred_bin))\n",
    "    print()\n",
    "\n",
    "    print(\"Confusion Matrix:\")\n",
    "    plot_confusion_matrix(y_test, y_pred_bin, ['Active', 'Bankrupt'])\n",
    "    print()\n",
    "\n",
    "    if probability:\n",
    "        print(\"Roc Curve:\")\n",
    "        y_pred_prob = model.predict_proba(x_test)[:, 1]\n",
    "        plot_roc_curve(y_test, y_pred_prob)\n",
    "        print()\n",
    "\n",
    "    return model"
   ]
  },
  {
   "cell_type": "code",
   "execution_count": 43,
   "metadata": {
    "collapsed": true
   },
   "outputs": [],
   "source": [
    "def train_model_by_random_search_cv(x_train, x_test, y_train, y_test, estimator, score, weight, tuned_parameters, custom_iterable, num_iter=10, probability=False):\n",
    "    print(score, weight)\n",
    "    print(\"Tuning hyper-parameters for scoring of {0} and class weight of {1}\".format(score, weight))\n",
    "\n",
    "    if score == 'f2':\n",
    "        score = f2_score\n",
    "    \n",
    "    print(tuned_parameters)\n",
    "    model = RandomizedSearchCV(estimator, tuned_parameters, cv=custom_iterable, scoring=score, verbose=1, n_iter=num_iter, n_jobs=-1)\n",
    "    model.fit(x_train, y_train.values.ravel())\n",
    "\n",
    "    print(\"Best parameters set found on development set:\")\n",
    "    print(model.best_params_)\n",
    "    print()\n",
    "\n",
    "    y_pred_bin = model.predict(x_test)\n",
    "    print(\"F1 Score\")\n",
    "    print(f1_score(y_test, y_pred_bin))\n",
    "\n",
    "    print(\"F2 Score\")\n",
    "    print(fbeta_score(y_test, y_pred_bin, beta=2, pos_label=True, average='binary'))\n",
    "\n",
    "    print(\"Recall Score\")\n",
    "    print(recall_score(y_test, y_pred_bin))\n",
    "\n",
    "    print(\"Precision Score\")\n",
    "    print(precision_score(y_test, y_pred_bin))\n",
    "\n",
    "    print(\"Detailed classification report:\")\n",
    "    print(classification_report(y_test, y_pred_bin))\n",
    "    print()\n",
    "\n",
    "    print(\"Confusion Matrix:\")\n",
    "    plot_confusion_matrix(y_test, y_pred_bin, ['Active', 'Bankrupt'])\n",
    "    print()\n",
    "\n",
    "    if probability:\n",
    "        print(\"Roc Curve:\")\n",
    "        y_pred_prob = model.predict_proba(x_test)[:, 1]\n",
    "        plot_roc_curve(y_test, y_pred_prob)\n",
    "        print()\n",
    "\n",
    "    return model"
   ]
  },
  {
   "cell_type": "markdown",
   "metadata": {},
   "source": [
    "# Train Models"
   ]
  },
  {
   "cell_type": "code",
   "execution_count": 8,
   "metadata": {
    "collapsed": false
   },
   "outputs": [],
   "source": [
    "estimator_svm_svc_linear = SVC(kernel=\"linear\", probability=True, verbose=1)"
   ]
  },
  {
   "cell_type": "code",
   "execution_count": 29,
   "metadata": {
    "collapsed": true
   },
   "outputs": [],
   "source": [
    "class_weight_candidates = [1, 5, 10, 25, 50, 100, 250, 500, 1000, 2000, 3000]\n",
    "scores_candidates = ['f1', 'f2', 'recall']\n",
    "tuned_parameters = {\n",
    "    'class_weight': None\n",
    "}"
   ]
  },
  {
   "cell_type": "code",
   "execution_count": 24,
   "metadata": {
    "collapsed": true
   },
   "outputs": [],
   "source": [
    "ts_iterable = make_time_series_iterable(train_df, 1995)"
   ]
  },
  {
   "cell_type": "code",
   "execution_count": null,
   "metadata": {
    "collapsed": false
   },
   "outputs": [
    {
     "name": "stdout",
     "output_type": "stream",
     "text": [
      "*****************************************************************************************\n",
      "Tuning hyper-parameters for scoring of f1 and class weight of 1\n",
      "Fitting 11 folds for each of 1 candidates, totalling 11 fits\n"
     ]
    },
    {
     "name": "stderr",
     "output_type": "stream",
     "text": [
      "/Users/wentaoxu/anaconda/lib/python2.7/site-packages/sklearn/metrics/classification.py:1113: UndefinedMetricWarning: F-score is ill-defined and being set to 0.0 due to no predicted samples.\n",
      "  'precision', 'predicted', average, warn_for)\n",
      "/Users/wentaoxu/anaconda/lib/python2.7/site-packages/sklearn/metrics/classification.py:1113: UndefinedMetricWarning: F-score is ill-defined and being set to 0.0 due to no predicted samples.\n",
      "  'precision', 'predicted', average, warn_for)\n",
      "/Users/wentaoxu/anaconda/lib/python2.7/site-packages/sklearn/metrics/classification.py:1113: UndefinedMetricWarning: F-score is ill-defined and being set to 0.0 due to no predicted samples.\n",
      "  'precision', 'predicted', average, warn_for)\n",
      "/Users/wentaoxu/anaconda/lib/python2.7/site-packages/sklearn/metrics/classification.py:1113: UndefinedMetricWarning: F-score is ill-defined and being set to 0.0 due to no predicted samples.\n",
      "  'precision', 'predicted', average, warn_for)\n",
      "[Parallel(n_jobs=-1)]: Done  11 out of  11 | elapsed:  1.1min finished\n"
     ]
    },
    {
     "name": "stdout",
     "output_type": "stream",
     "text": [
      "[LibSVM]Best parameters set found on development set:\n",
      "{'class_weight': {True: 1}}\n",
      "()\n",
      "F1 Score\n",
      "0.0\n",
      "F2 Score\n",
      "0.0\n",
      "Recall Score\n",
      "0.0\n",
      "Precision Score\n",
      "0.0\n",
      "Detailed classification report:\n",
      "             precision    recall  f1-score   support\n",
      "\n",
      "      False       1.00      1.00      1.00     39255\n",
      "       True       0.00      0.00      0.00        40\n",
      "\n",
      "avg / total       1.00      1.00      1.00     39295\n",
      "\n",
      "()\n",
      "Confusion Matrix:\n"
     ]
    },
    {
     "name": "stderr",
     "output_type": "stream",
     "text": [
      "/Users/wentaoxu/anaconda/lib/python2.7/site-packages/sklearn/metrics/classification.py:1113: UndefinedMetricWarning: F-score is ill-defined and being set to 0.0 due to no predicted samples.\n",
      "  'precision', 'predicted', average, warn_for)\n",
      "/Users/wentaoxu/anaconda/lib/python2.7/site-packages/sklearn/metrics/classification.py:1113: UndefinedMetricWarning: Precision is ill-defined and being set to 0.0 due to no predicted samples.\n",
      "  'precision', 'predicted', average, warn_for)\n",
      "/Users/wentaoxu/anaconda/lib/python2.7/site-packages/sklearn/metrics/classification.py:1113: UndefinedMetricWarning: Precision and F-score are ill-defined and being set to 0.0 in labels with no predicted samples.\n",
      "  'precision', 'predicted', average, warn_for)\n"
     ]
    },
    {
     "name": "stdout",
     "output_type": "stream",
     "text": [
      "Confusion matrix, without normalization\n",
      "[[39255     0]\n",
      " [   40     0]]\n"
     ]
    },
    {
     "data": {
      "image/png": "[encoded data removed]",
      "text/plain": [
       "<matplotlib.figure.Figure at 0x1118c8e10>"
      ]
     },
     "metadata": {},
     "output_type": "display_data"
    },
    {
     "name": "stdout",
     "output_type": "stream",
     "text": [
      "()\n",
      "Roc Curve:\n"
     ]
    },
    {
     "data": {
      "image/png": "[encoded data removed]",
      "text/plain": [
       "<matplotlib.figure.Figure at 0x10ef1b050>"
      ]
     },
     "metadata": {},
     "output_type": "display_data"
    },
    {
     "name": "stdout",
     "output_type": "stream",
     "text": [
      "()\n",
      "*****************************************************************************************\n",
      "Tuning hyper-parameters for scoring of f1 and class weight of 5\n",
      "Fitting 11 folds for each of 1 candidates, totalling 11 fits\n"
     ]
    }
   ],
   "source": [
    "models_dict = {}\n",
    "for score in scores_candidates:\n",
    "    for class_weight in class_weight_candidates:\n",
    "        models_dict[(score, class_weight)] = train_model_by_grid_search_cv(\n",
    "            x_train, \n",
    "            x_test, \n",
    "            y_train, \n",
    "            y_test, \n",
    "            estimator_svm_svc_linear,\n",
    "            score,\n",
    "            class_weight,\n",
    "            tuned_parameters,\n",
    "            ts_iterable,\n",
    "            probability=True\n",
    "        )"
   ]
  },
  {
   "cell_type": "code",
   "execution_count": null,
   "metadata": {
    "collapsed": true
   },
   "outputs": [],
   "source": []
  }
 ],
 "metadata": {
  "anaconda-cloud": {},
  "kernelspec": {
   "display_name": "Python [conda root]",
   "language": "python",
   "name": "conda-root-py"
  },
  "language_info": {
   "codemirror_mode": {
    "name": "ipython",
    "version": 2
   },
   "file_extension": ".py",
   "mimetype": "text/x-python",
   "name": "python",
   "nbconvert_exporter": "python",
   "pygments_lexer": "ipython2",
   "version": "2.7.12"
  }
 },
 "nbformat": 4,
 "nbformat_minor": 1
}
