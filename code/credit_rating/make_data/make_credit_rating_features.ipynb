{
 "cells": [
  {
   "cell_type": "code",
   "execution_count": 4,
   "metadata": {
    "collapsed": false
   },
   "outputs": [],
   "source": [
    "import pandas as pd\n",
    "import numpy as np\n",
    "import sys\n",
    "sys.path.insert(0, '../../')\n",
    "from copy import deepcopy\n",
    "import datetime\n",
    "from helpers.ipython_helpers import (\n",
    "    print_full\n",
    ")\n",
    "import matplotlib\n",
    "import matplotlib.pyplot as plt\n",
    "import matplotlib.ticker as ticker\n",
    "matplotlib.style.use('ggplot')\n",
    "%matplotlib inline\n",
    "import seaborn as sns"
   ]
  },
  {
   "cell_type": "code",
   "execution_count": 33,
   "metadata": {
    "collapsed": false
   },
   "outputs": [],
   "source": [
    "def initialize_rating_to_ranking_map():\n",
    "\n",
    "    ratings = [\n",
    "        \"AAA\", \"AA+\", \"AA\", \"AA-\", \"A+\", \"A\", \"A-\", \n",
    "        \"BBB+\", \"BBB\", \"BBB-\", \"BB+\", \"BB\", \"BB-\", \"B+\", \"B\", \"B-\", \n",
    "        \"CCC+\", \"CCC\", \"CCC-\", \"CC\", \"C\", \"D\", \"N.M.\", \"SD\"\n",
    "    ]\n",
    "\n",
    "    rankings = [index for index, val in enumerate(ratings, start=1)]\n",
    "    rating_ranking_map = dict(zip(ratings, rankings))\n",
    "    rating_ranking_map['N.M.'] = rating_ranking_map[\"D\"]\n",
    "    rating_ranking_map['SD'] = rating_ranking_map[\"D\"]\n",
    "\n",
    "    return rating_ranking_map\n",
    "\n",
    "def initialize_broad_ranking_map(rating_to_ranking_map):\n",
    "    rating_to_broad_ranking_map = {}\n",
    "    for key, val in rating_to_ranking_map.items():\n",
    "        if val > 0 and val <= 7:\n",
    "            rating_to_broad_ranking_map[key] = 1\n",
    "        elif val > 7 and val <= 10:\n",
    "            rating_to_broad_ranking_map[key] = 2\n",
    "        elif val > 10 and val <= 13:\n",
    "            rating_to_broad_ranking_map[key] = 3\n",
    "        elif val > 13 and val <= 16:\n",
    "            rating_to_broad_ranking_map[key] = 4\n",
    "        else:\n",
    "            rating_to_broad_ranking_map[key] = 5\n",
    "    \n",
    "    return rating_to_broad_ranking_map\n",
    "\n",
    "\n",
    "def initialize_windsorized_ranking_map(rating_to_ranking_map):\n",
    "    rating_to_windsorized_ranking_map = {}\n",
    "    for key, val in rating_to_ranking_map.items():\n",
    "        if val <= 2:\n",
    "            rating_to_windsorized_ranking_map[key] = 1\n",
    "        elif val >= 17:\n",
    "            rating_to_windsorized_ranking_map[key] = 16\n",
    "        else:\n",
    "            rating_to_windsorized_ranking_map[key] = val - 1\n",
    "\n",
    "    return rating_to_windsorized_ranking_map\n",
    "\n",
    "def get_ranking(rating, ranking_type):\n",
    "    if ranking_type == 'original':\n",
    "        return RATING_TO_RANKING_MAP[rating]\n",
    "    elif ranking_type == 'broad':\n",
    "        return RATING_TO_BROAD_RANKING_MAP[rating]\n",
    "    elif ranking_type == 'windsorized':\n",
    "        return RATING_TO_WINDSORIZED_RANKING_MAP[rating]        \n",
    "    \n",
    "\n",
    "def transform_rating_df(df):\n",
    "    df= df.rename(columns={'gvkey': 'GVKEY', 'splticrm': 'issuer_rating'})\n",
    "    df = df.dropna(subset=['issuer_rating'])\n",
    "    df = df.drop(df[df['issuer_rating'] == 'Suspended'].index)\n",
    "    df.loc[:, \"year\"] = df[\"datadate\"].dt.year\n",
    "    df.loc[:, \"month\"] = df[\"datadate\"].dt.month\n",
    "    df.loc[:, \"ranking\"] = df[\"issuer_rating\"].apply(lambda rating: get_ranking(rating, \"original\"))\n",
    "    df.loc[:, 'windsorized_ranking'] = df['issuer_rating'].apply(lambda rating: get_ranking(rating, \"windsorized\"))\n",
    "    df.loc[:, 'broad_ranking'] = df['issuer_rating'].apply(lambda rating: get_ranking(rating, \"broad\"))\n",
    "    df.loc[:, 'is_investment_grade'] = np.where(df['ranking'] <= 10, True, False)\n",
    "\n",
    "    return df\n",
    "\n",
    "\n",
    "def merge_campbell_rating_df(campbell_df, rating_df):\n",
    "    return rating_df.merge(campbell_df, on=['GVKEY', 'year', 'month'])\n",
    "\n",
    "\n",
    "def transform_merged_df(df):\n",
    "    df = df.dropna(subset=['CASHMTA_win', 'EXRET_AVG_win', 'MB_win', 'NIMTA_AVG_win', 'PRICE_win', 'RSIZE_win', 'SIGMA_win', 'TLMTA_win'])\n",
    "    output_df = pd.DataFrame()\n",
    "    output_df.loc[: , 'GVKEY'] = df['GVKEY']\n",
    "    output_df.loc[:, 'datadate'] = df['datadate_x']\n",
    "    output_df.loc[:, 'company_name'] = df['conm']\n",
    "    output_df.loc[:, 'year'] = df['year']\n",
    "    output_df.loc[:, 'month'] = df['month']\n",
    "    output_df.loc[:, 'CASHMTA_win'] = df['CASHMTA_win']\n",
    "    output_df.loc[:, 'EXRET_AVG_win'] = df['EXRET_AVG_win']\n",
    "    output_df.loc[:, 'MB_win'] = df['MB_win']\n",
    "    output_df.loc[:, 'NIMTA_AVG_win'] =  df['NIMTA_AVG_win']\n",
    "    output_df.loc[:, 'PRICE_win'] = df['PRICE_win']\n",
    "    output_df.loc[:, 'RSIZE_win'] = df['RSIZE_win']\n",
    "    output_df.loc[:, 'SIGMA_win'] = df['SIGMA_win']\n",
    "    output_df.loc[:, 'TLMTA_win'] = df['TLMTA_win']\n",
    "    output_df.loc[:, 'issuer_rating'] = df['issuer_rating']\n",
    "    output_df.loc[:, 'ranking'] = df['ranking']\n",
    "    output_df.loc[:, 'windsorized_ranking'] = df['windsorized_ranking']\n",
    "    output_df.loc[:, 'broad_ranking'] = df['broad_ranking']\n",
    "    output_df.loc[:, 'is_investment_grade'] = df['is_investment_grade']\n",
    "    \n",
    "    return output_df\n",
    "\n",
    "def make_month_diff_column(df):\n",
    "    df = df.groupby(by='GVKEY').apply(_mark_month_diff)\n",
    "    df = df.reset_index(drop=True)\n",
    "    \n",
    "    return df \n",
    "    \n",
    "    \n",
    "def _mark_month_diff(df):\n",
    "    first_year = df.head(1)['year'].iloc[0]\n",
    "    first_month = df.head(1)['month'].iloc[0]\n",
    "\n",
    "    df.loc[:, 'month_diff'] = df.apply(lambda row: _compute_month_diff(row, first_year, first_month), axis=1)\n",
    "        \n",
    "    return df\n",
    "\n",
    "\n",
    "def _compute_month_diff(row, first_year, first_month):\n",
    "    current_year = row['year']\n",
    "    current_month = row['month']\n",
    "    year_diff = current_year - first_year\n",
    "    months_diff = current_month - first_month\n",
    "\n",
    "    if year_diff > 0:\n",
    "        months_diff = 12 * year_diff + months_diff \n",
    "\n",
    "    return months_diff \n",
    "\n",
    "\n",
    "def make_periodic_df(df, period, drop_null_next=False):    \n",
    "    keep_index = identify_keep_index(df, period)\n",
    "    df = df[df.index.isin(keep_index)]\n",
    "    df = df.groupby(by='GVKEY').apply(_mark_next_states)\n",
    "    if drop_null_next:\n",
    "        df = df.dropna(subset=['next_rating'])\n",
    "    \n",
    "    return df \n",
    "    \n",
    "    \n",
    "def identify_keep_index(df, period):\n",
    "    keep_index = []\n",
    "    prev_index = df.head(1).index.tolist()[0]\n",
    "    prev_month_diff = df.head(1)['month_diff'].iloc[0]\n",
    "    prev_gvkey = df.head(1)['GVKEY'].iloc[0]\n",
    "    include_prev_index = True\n",
    "    \n",
    "    for index, row in df.iloc[1:].iterrows():\n",
    "        current_gvkey = row['GVKEY']\n",
    "        current_month_diff = row['month_diff']\n",
    "        current_prev_month_diff = current_month_diff - prev_month_diff\n",
    "        \n",
    "        if prev_gvkey == current_gvkey:\n",
    "            if current_prev_month_diff == period:\n",
    "                if include_prev_index:\n",
    "                    keep_index.append(prev_index)\n",
    "                    include_prev_index = False\n",
    "                keep_index.append(index)\n",
    "                prev_index = index \n",
    "                prev_month_diff = current_month_diff \n",
    "            elif current_prev_month_diff > period:\n",
    "                include_prev_index = True \n",
    "                prev_index = index \n",
    "                prev_month_diff = current_month_diff \n",
    "            else:\n",
    "                pass\n",
    "        else:\n",
    "            include_prev_index = True\n",
    "            prev_gvkey = current_gvkey\n",
    "            prev_index = index \n",
    "            prev_month_diff = current_month_diff\n",
    "            \n",
    "        \n",
    "    return keep_index\n",
    "\n",
    "    \n",
    "def _mark_next_states(df):\n",
    "    df.loc[:, 'next_rating'] = df['issuer_rating'].shift(-1)\n",
    "    df.loc[:, 'next_ranking'] = df['ranking'].shift(-1)\n",
    "    df.loc[:, 'next_windsorized_ranking'] = df['windsorized_ranking'].shift(-1)\n",
    "    df.loc[:, 'next_broad_ranking'] = df['broad_ranking'].shift(-1)\n",
    "    df.loc[:, 'next_is_investment_grade'] = df['is_investment_grade'].shift(-1)\n",
    "\n",
    "    return df\n",
    "    \n",
    "def display_transition_matrix(df):\n",
    "    transition_dict = dict((ranking, 0) for ranking in range(1, 24))\n",
    "    transition_matrix = dict((ranking, deepcopy(transition_dict)) for ranking in range(1, 24))\n",
    "\n",
    "    for index, row in df.iterrows():\n",
    "        if pd.notnull(row['prev_rating_ranking']):\n",
    "            prev_ranking = row['prev_rating_ranking']\n",
    "            current_ranking = row['rating_ranking']\n",
    "            transition_matrix[int(prev_ranking)][int(current_ranking)] += 1\n",
    "\n",
    "    return pd.DataFrame(transition_matrix).transpose()\n",
    "    \n",
    "\n",
    "def display_change_stats(df):\n",
    "    investment_grade_size = df[df['is_investment_grade'] != df['next_is_investment_grade']].shape[0]\n",
    "    broad_ranking_size = df[df['broad_ranking'] != df['next_broad_ranking']].shape[0] \n",
    "    ranking_size = df[df['ranking'] != df['next_ranking']].shape[0]\n",
    "    print(\"*******************************************************\")\n",
    "    print(\"The original df has {0} observations\".format(df.shape[0]))\n",
    "    print(\"Investment grade df has {0} observations with changes in rating\".format(investment_grade_size))\n",
    "    print(\"Broad ranking df has {0} observations with changes in rating\".format(broad_ranking_size))\n",
    "    print(\"Ranking df has {0} observatios with changes in rating\".format(ranking_size))\n",
    "    \n",
    "def plot_ranking_distribution(df, ranking_type):\n",
    "    sns.set_style('whitegrid')\n",
    "\n",
    "    if ranking_type == 'ranking':        \n",
    "        ax = sns.countplot(data=df, x=ranking_type, color='c')\n",
    "        ax.set(xlabel=\"Ranking\", ylabel='Count')\n",
    "    elif ranking_type == 'windsorized_ranking':\n",
    "        ax = sns.countplot(data=df, x=ranking_type, color='c')\n",
    "        ax.set(xlabel=\"Windsorized Ranking\", ylabel='Count')\n",
    "    elif ranking_type == 'broad_ranking':\n",
    "        ax = sns.countplot(data=df, x=ranking_type, color='c')\n",
    "        ax.set(xlabel=\"Broad Ranking\", ylabel='Count')\n",
    "    elif ranking_type == 'is_investment_grade':\n",
    "        ax = sns.countplot(data=df, x=ranking_type, order=(True, False), color='c')\n",
    "        ax.set(xlabel=\"Is Investment Grade\", ylabel='Count')\n",
    "        \n",
    "    sns.reset_orig()\n",
    "    \n",
    "\n",
    "def make_streak_df(df):\n",
    "    ranking_list = []\n",
    "    streaks_list = []\n",
    "\n",
    "    last_gvkey = df.iloc[0]['GVKEY']\n",
    "    last_ranking = df.iloc[0]['ranking']\n",
    "    last_month_diff = df.iloc[0]['month_diff'] \n",
    "    streaks = 1\n",
    "\n",
    "    for index, row in df.iloc[1:].iterrows():\n",
    "        gvkey = row['GVKEY']\n",
    "        ranking = row['ranking']\n",
    "        month_diff = row['month_diff']\n",
    "        \n",
    "        if (last_gvkey == gvkey) and (last_ranking == ranking) and (last_month_diff + 1 == month_diff):\n",
    "            streaks += 1\n",
    "        else:\n",
    "            ranking_list.append(last_ranking)\n",
    "            streaks_list.append(streaks)\n",
    "            streaks = 1\n",
    "            \n",
    "        last_gvkey = gvkey        \n",
    "        last_ranking = ranking\n",
    "        last_month_diff = month_diff\n",
    "\n",
    "    ranking_list.append(last_ranking)\n",
    "    streaks_list.append(streaks)\n",
    "    \n",
    "    return pd.DataFrame({'ranking': ranking_list, 'streaks': streaks_list})\n",
    "    \n",
    "def display_streaks_by_ranking_stats(df):\n",
    "    df = df.groupby('ranking').describe().reset_index()\n",
    "    df = df.pivot(index='ranking', columns='level_1', values='streaks')\n",
    "    return df[[\"count\", \"mean\", \"std\", \"min\", \"25%\", \"50%\", \"75%\", \"max\"]]\n",
    "\n",
    "\n",
    "def display_heat_map_current_to_next_state(df, ranking_type):\n",
    "    if ranking_type == 'ranking':\n",
    "        df = df[['ranking', 'next_ranking']]\n",
    "    elif ranking_type == 'windsorized_ranking':\n",
    "        df = df[['windsorized_ranking', 'next_windsorized_ranking']]\n",
    "    elif ranking_type == 'broad_ranking':\n",
    "        df = df[['broad_ranking', 'next_broad_ranking']]\n",
    "    elif ranking_type == 'is_investment_grade':\n",
    "        df = df[['is_investment_grade', 'next_is_investment_grade']]\n",
    "    \n",
    "    df = df.pivot_table(index='ranking', columns='next_ranking', aggfunc=len, fill_value=0)\n",
    "    sns.heatmap(df, fmt=\"d\", linewidths=0.5)\n",
    "    "
   ]
  },
  {
   "cell_type": "code",
   "execution_count": 2,
   "metadata": {
    "collapsed": false
   },
   "outputs": [],
   "source": [
    "RATING_TO_RANKING_MAP = initialize_rating_to_ranking_map()\n",
    "RATING_TO_BROAD_RANKING_MAP = initialize_broad_ranking_map(RATING_TO_RANKING_MAP)\n",
    "RATING_TO_WINDSORIZED_RANKING_MAP = initialize_windsorized_ranking_map(RATING_TO_RANKING_MAP)"
   ]
  },
  {
   "cell_type": "markdown",
   "metadata": {},
   "source": [
    "# Read Data"
   ]
  },
  {
   "cell_type": "code",
   "execution_count": 5,
   "metadata": {
    "collapsed": false
   },
   "outputs": [],
   "source": [
    "original_rating_df = pd.read_csv(\"../../../data/credit_rating/raw_data/sp_credit_rating_1973_2016.csv\", parse_dates=[\"datadate\"])"
   ]
  },
  {
   "cell_type": "code",
   "execution_count": 6,
   "metadata": {
    "collapsed": true
   },
   "outputs": [],
   "source": [
    "original_campbell_df = pd.read_csv(\"../../../data/features/simple_monthly_campbell_df.csv\")"
   ]
  },
  {
   "cell_type": "markdown",
   "metadata": {},
   "source": [
    "# Transform Data"
   ]
  },
  {
   "cell_type": "code",
   "execution_count": 7,
   "metadata": {
    "collapsed": false
   },
   "outputs": [],
   "source": [
    "transformed_rating_df = transform_rating_df(original_rating_df)"
   ]
  },
  {
   "cell_type": "code",
   "execution_count": 40,
   "metadata": {
    "collapsed": true
   },
   "outputs": [],
   "source": [
    "rating_month_diff_df = make_month_diff_column(transformed_rating_df)\n",
    "monthly_rating_df = make_periodic_df(rating_month_diff_df, 1)"
   ]
  },
  {
   "cell_type": "code",
   "execution_count": 25,
   "metadata": {
    "collapsed": false
   },
   "outputs": [],
   "source": [
    "merged_df = merge_campbell_rating_df(original_campbell_df, transformed_rating_df)"
   ]
  },
  {
   "cell_type": "code",
   "execution_count": 26,
   "metadata": {
    "collapsed": true
   },
   "outputs": [],
   "source": [
    "transformed_merged_df = transform_merged_df(merged_df)"
   ]
  },
  {
   "cell_type": "code",
   "execution_count": 30,
   "metadata": {
    "collapsed": false
   },
   "outputs": [],
   "source": [
    "month_diff_df = make_month_diff_column(transformed_merged_df)"
   ]
  },
  {
   "cell_type": "code",
   "execution_count": 31,
   "metadata": {
    "collapsed": false
   },
   "outputs": [
    {
     "name": "stdout",
     "output_type": "stream",
     "text": [
      "Transformed Rating DF\n",
      "There are 698610 observations with rating data\n",
      "There are 5964 unique companies(gvkey)\n",
      "There are 24 unique rating categories\n",
      "\n",
      "MERGED_DF\n",
      "There are 406976 observations with rating data\n",
      "There are 3777 unique companies(gvkey)\n",
      "There are 24 unique rating categories\n",
      "\n",
      "Transformed_MERGED_DF\n",
      "There are 380358 observations with rating data\n",
      "There are 3693 unique companies(gvkey)\n",
      "There are 24 unique rating categories\n",
      "\n"
     ]
    }
   ],
   "source": [
    "print(\"Transformed Rating DF\")\n",
    "print(\"There are {0} observations with rating data\".format(transformed_rating_df.shape[0]))\n",
    "print(\"There are {0} unique companies(gvkey)\".format(transformed_rating_df['GVKEY'].unique().shape[0]))\n",
    "print(\"There are {0} unique rating categories\\n\".format(transformed_rating_df['issuer_rating'].unique().shape[0]))\n",
    "\n",
    "print(\"MERGED_DF\")\n",
    "print(\"There are {0} observations with rating data\".format(merged_df.shape[0]))\n",
    "print(\"There are {0} unique companies(gvkey)\".format(merged_df['GVKEY'].unique().shape[0]))\n",
    "print(\"There are {0} unique rating categories\\n\".format(merged_df['issuer_rating'].unique().shape[0]))\n",
    "\n",
    "print(\"Transformed_MERGED_DF\")\n",
    "print(\"There are {0} observations with rating data\".format(transformed_merged_df.shape[0]))\n",
    "print(\"There are {0} unique companies(gvkey)\".format(transformed_merged_df['GVKEY'].unique().shape[0]))\n",
    "print(\"There are {0} unique rating categories\\n\".format(transformed_merged_df['issuer_rating'].unique().shape[0]))"
   ]
  },
  {
   "cell_type": "code",
   "execution_count": 34,
   "metadata": {
    "collapsed": false
   },
   "outputs": [],
   "source": [
    "monthly_df = make_periodic_df(month_diff_df, 1, drop_null_next=True)\n",
    "quarterly_df = make_periodic_df(month_diff_df, 3, drop_null_next=True)\n",
    "semi_annual_df = make_periodic_df(month_diff_df, 6, drop_null_next=True)\n",
    "annual_df = make_periodic_df(month_diff_df, 12, drop_null_next=True)"
   ]
  },
  {
   "cell_type": "markdown",
   "metadata": {},
   "source": [
    "# Save Data"
   ]
  },
  {
   "cell_type": "code",
   "execution_count": 41,
   "metadata": {
    "collapsed": false
   },
   "outputs": [],
   "source": [
    "transformed_rating_df.to_csv(\"../../../data/credit_rating/intermediate_data/transformed_rating_df_unmerged.csv\")\n",
    "monthly_rating_df.to_csv(\"../../../data/credit_rating/intermediate_data/monthly_credit_rating_df_unmerged.csv\")\n",
    "monthly_df.to_csv(\"../../../data/credit_rating/intermediate_data/monthly_credit_rating_features.csv\")\n",
    "quarterly_df.to_csv(\"../../../data/credit_rating/intermediate_data/quarterly_credit_rating_features.csv\")\n",
    "semi_annual_df.to_csv(\"../../../data/credit_rating/intermediate_data/semi_annual_credit_rating_features.csv\")\n",
    "annual_df.to_csv(\"../../../data/credit_rating/intermediate_data/annual_credit_rating_features.csv\")"
   ]
  }
 ],
 "metadata": {
  "anaconda-cloud": {},
  "kernelspec": {
   "display_name": "Python [conda root]",
   "language": "python",
   "name": "conda-root-py"
  },
  "language_info": {
   "codemirror_mode": {
    "name": "ipython",
    "version": 2
   },
   "file_extension": ".py",
   "mimetype": "text/x-python",
   "name": "python",
   "nbconvert_exporter": "python",
   "pygments_lexer": "ipython2",
   "version": "2.7.12"
  }
 },
 "nbformat": 4,
 "nbformat_minor": 1
}
